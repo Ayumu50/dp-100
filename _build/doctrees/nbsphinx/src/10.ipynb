{
 "cells": [
  {
   "cell_type": "markdown",
   "metadata": {},
   "source": [
    "# Mod10 ネットワーク2"
   ]
  },
  {
   "cell_type": "markdown",
   "metadata": {},
   "source": [
    "VPC ピアリングとTransit Gateway の使い分け\n",
    "- VPC ピアリングには帯域制限がない、Transit Gateway は50gbps が限界\n",
    "- Transit Gateway は接続先のSGを許可対象に含めることができない\n",
    "- Transit Gateway のほうがアタッチメント数はトラフィックの処理量などよりお金がかかる"
   ]
  },
  {
   "cell_type": "markdown",
   "metadata": {},
   "source": [
    "Site ot Site VPN 接続はIPSec VPN接続のこと"
   ]
  },
  {
   "cell_type": "markdown",
   "metadata": {},
   "source": []
  },
  {
   "cell_type": "markdown",
   "metadata": {},
   "source": []
  }
 ],
 "metadata": {
  "language_info": {
   "name": "python"
  }
 },
 "nbformat": 4,
 "nbformat_minor": 2
}
