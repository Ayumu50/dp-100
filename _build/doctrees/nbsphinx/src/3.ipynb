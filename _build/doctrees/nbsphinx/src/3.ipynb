{
 "cells": [
  {
   "cell_type": "markdown",
   "metadata": {},
   "source": [
    "# Mod3 ネットワーク\n"
   ]
  },
  {
   "cell_type": "markdown",
   "metadata": {},
   "source": [
    "[ネットワークインターフェイスとは](https://wa3.i-3-i.info/word12498.html)"
   ]
  },
  {
   "cell_type": "markdown",
   "metadata": {},
   "source": [
    "### 補足資料\n",
    "[Amazon EC2 で自分の IP アドレスを使用する (BYOIP)](https://docs.aws.amazon.com/ja_jp/AWSEC2/latest/UserGuide/ec2-byoip.html)  \n",
    "[サブネットの IP アドレス動作を変更する](https://docs.aws.amazon.com/ja_jp/vpc/latest/userguide/vpc-ip-addressing.html)  \n",
    "[複数の IP アドレス](https://docs.aws.amazon.com/ja_jp/AWSEC2/latest/UserGuide/MultipleIP.html)  "
   ]
  }
 ],
 "metadata": {
  "colab": {
   "provenance": []
  },
  "kernelspec": {
   "display_name": "Python 3",
   "name": "python3"
  },
  "language_info": {
   "name": "python"
  }
 },
 "nbformat": 4,
 "nbformat_minor": 0
}
