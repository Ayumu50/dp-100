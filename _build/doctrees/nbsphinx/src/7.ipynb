{
 "cells": [
  {
   "cell_type": "markdown",
   "metadata": {},
   "source": [
    "# Mod7 モニタリング・スケーリング"
   ]
  },
  {
   "cell_type": "markdown",
   "metadata": {},
   "source": [
    "### CloudWatch"
   ]
  },
  {
   "cell_type": "markdown",
   "metadata": {},
   "source": [
    "AWS が提供する統合監視サービス  \n",
    "主な機能  \n",
    "- CloudWatch Logs:ログの一元管理。ログの保持期間は1日~10年間もしくは無制限を指定\n",
    "- CloudWatch Events\n",
    "- CloudWatch Alarms\n",
    "- CloudWatch Logs Insights\n",
    "- CloudWatch DashBords\n",
    "\n",
    "\n"
   ]
  },
  {
   "cell_type": "markdown",
   "metadata": {},
   "source": [
    "### CloudTrail\n",
    "過去90日分のログを無料保管する。S3に保管する際はSSE-S3 にて暗号化される。運用の際は証跡保管のための専用アカウントを作成し、運用担当とセキュリティ管理者を分離させることが推奨される。VPC ピアリングなどを使用しログ管理を行う\n"
   ]
  },
  {
   "cell_type": "markdown",
   "metadata": {},
   "source": [
    "### AWS Config\n",
    "AWS リソースの構成変更をログとして取得するサービス\n"
   ]
  },
  {
   "cell_type": "markdown",
   "metadata": {},
   "source": []
  },
  {
   "cell_type": "markdown",
   "metadata": {},
   "source": [
    "## 補助資料\n",
    "[Slack の障害](https://gigazine.net/news/20210202-slack-2021-january-4-outage-report/)"
   ]
  },
  {
   "cell_type": "code",
   "execution_count": null,
   "metadata": {
    "vscode": {
     "languageId": "plaintext"
    }
   },
   "outputs": [],
   "source": []
  }
 ],
 "metadata": {
  "language_info": {
   "name": "python"
  }
 },
 "nbformat": 4,
 "nbformat_minor": 2
}
