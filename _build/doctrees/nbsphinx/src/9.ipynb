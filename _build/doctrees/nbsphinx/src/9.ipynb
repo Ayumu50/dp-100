{
 "cells": [
  {
   "cell_type": "markdown",
   "metadata": {},
   "source": [
    "# Mod9 コンテナ"
   ]
  },
  {
   "cell_type": "markdown",
   "metadata": {},
   "source": [
    "ee"
   ]
  }
 ],
 "metadata": {
  "language_info": {
   "name": "python"
  }
 },
 "nbformat": 4,
 "nbformat_minor": 2
}
