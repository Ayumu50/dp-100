{
 "cells": [
  {
   "cell_type": "markdown",
   "metadata": {},
   "source": [
    "# Mod2 セキュリティ\n",
    "知っておくと便利なIAM関連の情報をまとめました。詳細はご自身でお調べください。テキストなどというたいそうなものではなくあくまで人のメモとしてご閲覧お願いします。\n"
   ]
  },
  {
   "cell_type": "markdown",
   "metadata": {},
   "source": [
    "### ポリシー\n",
    "ジョブ機能の管理ポリシー：特定の職種と連携するように設計されたポリシー、管理が簡素化される。ゆるいポリシー"
   ]
  },
  {
   "cell_type": "markdown",
   "metadata": {},
   "source": [
    "### アカウントアクション\n",
    "\n",
    "クロスアカウントのアクション  \n",
    "複数アカウントが必要なときはAnd条件のみが有効\n",
    "特定のアクションを許可するとき明示的な許可が必要\n",
    "クロスアカウントを使用する際はスイッチロールを使用する。\n",
    "\n",
    "\n",
    "単一アカウントアクション  \n",
    "特定のアクションを拒否したいとき、明示的な拒否が必要\n",
    "\n",
    "\n",
    "### STS\n",
    "一時認証を持つユーザの作成、提供ができる。\n",
    "数千などのユーザーが居るときなどにしようされる。なぜかというと一人ひとりにユーザの作成を行うのが難しいから。"
   ]
  },
  {
   "cell_type": "markdown",
   "metadata": {},
   "source": [
    "### IAM アクセスアナライザー\n",
    "外部ソースの信頼関係の検証、ポリシーの検証を行う\n",
    "リスクや意図しないアクセスを特定する。\n",
    "ベストプラクティスに準じているかを検証する。\n",
    "\n",
    "\n"
   ]
  },
  {
   "cell_type": "markdown",
   "metadata": {},
   "source": [
    "### IAM セキュリティのベストプラクティス\n",
    "\n",
    "- ルートユーザーのアクセスキーをロック\n",
    "- 個別のIAMユーザの作成\n",
    "- ポリシーの検証\n",
    "- 最小特権を認める\n",
    "- EC2 インスタンスで実行されるアプリケーションに対してロールを使用する\n",
    "- アクセスキーを共有しない、公開しない\n",
    "- AWS アカウントアクティビティの監視\n"
   ]
  },
  {
   "cell_type": "markdown",
   "metadata": {},
   "source": [
    "[AWS クラウドセキュリティ](https://aws.amazon.com/jp/security/)  \n",
    "[責任共有モデル](https://aws.amazon.com/jp/compliance/shared-responsibility-model/)  \n",
    "[セキュリティの柱 - AWS Well-Architected フレームワーク](https://docs.aws.amazon.com/ja_jp/wellarchitected/latest/security-pillar/welcome.html)  \n"
   ]
  },
  {
   "cell_type": "markdown",
   "metadata": {},
   "source": [
    "\n"
   ]
  },
  {
   "cell_type": "markdown",
   "metadata": {},
   "source": []
  },
  {
   "cell_type": "markdown",
   "metadata": {},
   "source": []
  }
 ],
 "metadata": {
  "colab": {
   "provenance": []
  },
  "kernelspec": {
   "display_name": "Python 3",
   "name": "python3"
  },
  "language_info": {
   "name": "python"
  }
 },
 "nbformat": 4,
 "nbformat_minor": 0
}
