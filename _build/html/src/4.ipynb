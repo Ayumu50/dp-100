{
 "cells": [
  {
   "cell_type": "markdown",
   "metadata": {},
   "source": [
    "# Mod4 コンピューティング\n"
   ]
  },
  {
   "cell_type": "markdown",
   "metadata": {},
   "source": [
    "## 補足"
   ]
  },
  {
   "cell_type": "markdown",
   "metadata": {},
   "source": [
    "- LambdaとLambda＠Edgeの違いについて  \n",
    "定義した関数の実行場所がことなる。Lambda＠EdgeはCloud Front のエッジロケーションで実行されるため配信サービスになにか紐付けるときなどによい。\n"
   ]
  },
  {
   "cell_type": "markdown",
   "metadata": {},
   "source": []
  }
 ],
 "metadata": {
  "language_info": {
   "name": "python"
  }
 },
 "nbformat": 4,
 "nbformat_minor": 2
}
