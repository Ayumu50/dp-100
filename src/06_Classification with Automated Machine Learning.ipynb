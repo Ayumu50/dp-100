{
  "cells": [
    {
      "attachments": {},
      "cell_type": "markdown",
      "source": [
        "# 自動機械学習で分類モデルを訓練する\n",
        "\n",
        "モデルを訓練するために使用できる機械学習アルゴリズムには多くの種類があり、特定のデータと予測要件に最も効果的なアルゴリズムを決定するのは簡単ではない場合があります。さらに、正規化、欠損特徴インピュテーションなどのテクニックを使って学習データを前処理することで、モデルの予測性能に大きな影響を与えることができます。要件に最適なモデルを見つけようとすると、アルゴリズムと前処理変換の多くの組み合わせを試す必要があるかもしれません。\n",
        "\n",
        "Azure Machine Learningでは、異なるアルゴリズムと前処理オプションを使用してトレーニングされたモデルの比較を自動化できます。この機能を活用するには、[Azure Machine Learning Studio](https://ml/azure.com)またはPython SDK(v2)のビジュアルインターフェイスを使用できます。Python SDKでは、自動機械学習ジョブの設定をより詳細に制御できますが、ビジュアルインターフェースの方が使いやすくなっています。\n",
        "\n",
        "## Before you start\n",
        "\n",
        "You'll need the latest version of the  **azure-ai-ml** package to run the code in this notebook. Run the cell below to verify that it is installed.\n",
        "\n",
        "> **Note**:\n",
        "> If the **azure-ai-ml** package is not installed, run `pip install azure-ai-ml` to install it."
      ],
      "metadata": {}
    },
    {
      "cell_type": "code",
      "source": [
        "pip show azure-ai-ml"
      ],
      "outputs": [
        {
          "output_type": "stream",
          "name": "stdout",
          "text": "Name: azure-ai-ml\r\nVersion: 1.21.1\r\nSummary: Microsoft Azure Machine Learning Client Library for Python\r\nHome-page: https://github.com/Azure/azure-sdk-for-python\r\nAuthor: Microsoft Corporation\r\nAuthor-email: azuresdkengsysadmins@microsoft.com\r\nLicense: MIT License\r\nLocation: /anaconda/envs/azureml_py38/lib/python3.10/site-packages\r\nRequires: azure-common, azure-core, azure-mgmt-core, azure-storage-blob, azure-storage-file-datalake, azure-storage-file-share, colorama, isodate, jsonschema, marshmallow, msrest, opencensus-ext-azure, opencensus-ext-logging, pydash, pyjwt, pyyaml, strictyaml, tqdm, typing-extensions\r\nRequired-by: \r\nNote: you may need to restart the kernel to use updated packages.\n"
        }
      ],
      "execution_count": 1,
      "metadata": {
        "vscode": {
          "languageId": "python"
        },
        "gather": {
          "logged": 1731288081719
        }
      }
    },
    {
      "attachments": {},
      "cell_type": "markdown",
      "source": [
        "## ワークスペースに接続する\n",
        "\n",
        "必要な SDK パッケージがインストールされ、ワークスペースに接続する準備が整いました。\n",
        "\n",
        "ワークスペースに接続するには、サブスクリプションID、リソースグループ名、ワークスペース名といった識別子のパラメータが必要だ。Azure Machine Learningが管理するコンピュートインスタンスで作業しているので、デフォルト値を使用してワークスペースに接続できる。"
      ],
      "metadata": {}
    },
    {
      "cell_type": "code",
      "source": [
        "from azure.identity import DefaultAzureCredential, InteractiveBrowserCredential\n",
        "from azure.ai.ml import MLClient\n",
        "\n",
        "try:\n",
        "    credential = DefaultAzureCredential()\n",
        "    # Check if given credential can get token successfully.\n",
        "    credential.get_token(\"https://management.azure.com/.default\")\n",
        "except Exception as ex:\n",
        "    # Fall back to InteractiveBrowserCredential in case DefaultAzureCredential not work\n",
        "    credential = InteractiveBrowserCredential()"
      ],
      "outputs": [],
      "execution_count": 7,
      "metadata": {
        "gather": {
          "logged": 1731288155988
        },
        "jupyter": {
          "outputs_hidden": false,
          "source_hidden": false
        },
        "nteract": {
          "transient": {
            "deleting": false
          }
        },
        "vscode": {
          "languageId": "python"
        }
      }
    },
    {
      "cell_type": "code",
      "source": [
        "# Get a handle to workspace\n",
        "ml_client = MLClient.from_config(credential=credential)"
      ],
      "outputs": [
        {
          "output_type": "stream",
          "name": "stderr",
          "text": "Found the config file in: /config.json\n"
        }
      ],
      "execution_count": 8,
      "metadata": {
        "vscode": {
          "languageId": "python"
        },
        "gather": {
          "logged": 1731288157817
        }
      }
    },
    {
      "attachments": {},
      "cell_type": "markdown",
      "source": [
        "## データの準備\n",
        "\n",
        "自動機械学習用の学習スクリプトを作成する必要はないが、学習データをロードする必要がある。\n",
        "\n",
        "今回は、糖尿病患者の詳細を含むデータセットを使用します。\n",
        "\n",
        "自動機械学習の入力としてデータセットを渡すには、そのデータは表形式で、対象となる列が含まれていなければなりません。データを表形式のデータセットとして解釈するためには、入力データセットは **MLTable** でなければなりません。\n",
        "\n",
        "MLTableデータ資産は、セットアップ時に既に作成されています。このデータ資産は、**Data** ページに移動して調べることができます。ここで名前 `diabetes-training-table` とバージョン `1` を指定してデータアセットを取得します。"
      ],
      "metadata": {}
    },
    {
      "cell_type": "code",
      "source": [
        "from azure.ai.ml.constants import AssetTypes\n",
        "from azure.ai.ml import Input\n",
        "\n",
        "# creates a dataset based on the files in the local data folder\n",
        "my_training_data_input = Input(type=AssetTypes.MLTABLE, path=\"azureml:diabetes-training:1\")"
      ],
      "outputs": [],
      "execution_count": 3,
      "metadata": {
        "gather": {
          "logged": 1731288142675
        },
        "jupyter": {
          "outputs_hidden": false,
          "source_hidden": false
        },
        "nteract": {
          "transient": {
            "deleting": false
          }
        },
        "vscode": {
          "languageId": "python"
        }
      }
    },
    {
      "attachments": {},
      "cell_type": "markdown",
      "source": [
        "## 自動機械学習ジョブの設定\n",
        "\n",
        "これで、自動機械学習実験を設定する準備ができた。\n",
        "\n",
        "以下のコードを実行すると、以下のような自動機械学習ジョブが作成される：\n",
        "\n",
        "- aml-cluster`という名前の計算クラスタを使う。\n",
        "- ターゲットカラムとして `Diabetic` を設定する。\n",
        "- 主要な指標として `accuracy` を設定する。\n",
        "- 総トレーニング時間 `60` 分後にタイムアウトする。\n",
        "- 最大5`のモデルを学習する。\n",
        "- LogisticRegression` アルゴリズムではモデルは学習されない。"
      ],
      "metadata": {}
    },
    {
      "cell_type": "code",
      "source": [
        "from azure.ai.ml import automl\n",
        "\n",
        "# configure the classification job\n",
        "classification_job = automl.classification(\n",
        "    compute=\"aml-cluster\",\n",
        "    experiment_name=\"auto-ml-class-dev\",\n",
        "    training_data=my_training_data_input,\n",
        "    target_column_name=\"Diabetic\",\n",
        "    primary_metric=\"accuracy\",\n",
        "    n_cross_validations=5,\n",
        "    enable_model_explainability=True\n",
        ")\n",
        "\n",
        "# set the limits (optional)\n",
        "classification_job.set_limits(\n",
        "    timeout_minutes=60, \n",
        "    trial_timeout_minutes=20, \n",
        "    max_trials=5,\n",
        "    enable_early_termination=True,\n",
        ")\n",
        "\n",
        "# set the training properties (optional)\n",
        "classification_job.set_training(\n",
        "    blocked_training_algorithms=[\"LogisticRegression\"], \n",
        "    enable_onnx_compatible_models=True\n",
        ")"
      ],
      "outputs": [],
      "execution_count": 4,
      "metadata": {
        "gather": {
          "logged": 1731288145690
        },
        "jupyter": {
          "outputs_hidden": false,
          "source_hidden": false
        },
        "nteract": {
          "transient": {
            "deleting": false
          }
        },
        "vscode": {
          "languageId": "python"
        }
      }
    },
    {
      "attachments": {},
      "cell_type": "markdown",
      "source": [
        "## Run an automated machine learning job\n",
        "\n",
        "OK, you're ready to go. Let's run the automated machine learning experiment.\n",
        "\n",
        "> **Note**: This may take some time!"
      ],
      "metadata": {}
    },
    {
      "cell_type": "code",
      "source": [
        "# Submit the AutoML job\n",
        "returned_job = ml_client.jobs.create_or_update(\n",
        "    classification_job\n",
        ")  \n",
        "\n",
        "# submit the job to the backend\n",
        "aml_url = returned_job.studio_url\n",
        "print(\"Monitor your job at\", aml_url)"
      ],
      "outputs": [
        {
          "output_type": "stream",
          "name": "stdout",
          "text": "Monitor your job at https://ml.azure.com/runs/gray_nutmeg_s9240p5fg4?wsid=/subscriptions/2fbd9cca-a295-4d4f-a5c4-bf80e223260f/resourcegroups/ai-900/workspaces/koikedemo&tid=adcb56ab-ed63-4be3-8e5e-2fa7d2eb44e1\n"
        }
      ],
      "execution_count": 9,
      "metadata": {
        "gather": {
          "logged": 1731288166698
        },
        "jupyter": {
          "outputs_hidden": false,
          "source_hidden": false
        },
        "nteract": {
          "transient": {
            "deleting": false
          }
        },
        "vscode": {
          "languageId": "python"
        }
      }
    },
    {
      "attachments": {},
      "cell_type": "markdown",
      "source": [
        "While the job is running, you can monitor it in the Studio."
      ],
      "metadata": {}
    }
  ],
  "metadata": {
    "kernel_info": {
      "name": "python38-azureml"
    },
    "kernelspec": {
      "name": "python38-azureml",
      "language": "python",
      "display_name": "Python 3.8 - AzureML"
    },
    "microsoft": {
      "host": {
        "AzureML": {
          "notebookHasBeenCompleted": true
        }
      }
    },
    "nteract": {
      "version": "nteract-front-end@1.0.0"
    },
    "vscode": {
      "interpreter": {
        "hash": "f2b2cd046deda8eabef1e765a11d0ec9aa9bd1d31d56ce79c815a38c323e14ec"
      }
    },
    "language_info": {
      "name": "python",
      "version": "3.10.11",
      "mimetype": "text/x-python",
      "codemirror_mode": {
        "name": "ipython",
        "version": 3
      },
      "pygments_lexer": "ipython3",
      "nbconvert_exporter": "python",
      "file_extension": ".py"
    }
  },
  "nbformat": 4,
  "nbformat_minor": 2
}