{
  "cells": [
    {
      "attachments": {},
      "cell_type": "markdown",
      "metadata": {},
      "source": [
        "# MLflowによるノートブックでのモデルトレーニングの追跡\n",
        "\n",
        "ノートブックでMLflowを使用すると、トレーニングしたモデルを追跡できます。このノートブックは Azure Machine Learning のコンピュートインスタンスで実行するので、MLflow をセットアップする必要はありません。\n",
        "\n",
        "いくつかのデータを準備し、糖尿病を予測するモデルをトレーニングします。オートロギングとカスタムロギングを使用して、ノートブックで MLflow を使用する方法を探ります。\n",
        "\n",
        "## 始める前に\n",
        "\n",
        "このノートブックのコードを実行するには、**azure-ai-ml**パッケージの最新版が必要です。以下のセルを実行して、インストールされていることを確認してください。\n",
        "\n",
        "> 注**：\n",
        "> もし **azure-ai-ml** パッケージがインストールされていない場合は、`pip install azure-ai-ml` を実行してインストールしてください。"
      ]
    },
    {
      "cell_type": "code",
      "execution_count": 1,
      "metadata": {
        "gather": {
          "logged": 1731282340369
        },
        "jupyter": {
          "outputs_hidden": false,
          "source_hidden": false
        },
        "nteract": {
          "transient": {
            "deleting": false
          }
        }
      },
      "outputs": [
        {
          "name": "stdout",
          "output_type": "stream",
          "text": [
            "Name: azure-ai-ml\r\n",
            "Version: 1.21.1\r\n",
            "Summary: Microsoft Azure Machine Learning Client Library for Python\r\n",
            "Home-page: https://github.com/Azure/azure-sdk-for-python\r\n",
            "Author: Microsoft Corporation\r\n",
            "Author-email: azuresdkengsysadmins@microsoft.com\r\n",
            "License: MIT License\r\n",
            "Location: /anaconda/envs/azureml_py38/lib/python3.10/site-packages\r\n",
            "Requires: azure-common, azure-core, azure-mgmt-core, azure-storage-blob, azure-storage-file-datalake, azure-storage-file-share, colorama, isodate, jsonschema, marshmallow, msrest, opencensus-ext-azure, opencensus-ext-logging, pydash, pyjwt, pyyaml, strictyaml, tqdm, typing-extensions\r\n",
            "Required-by: \r\n",
            "Note: you may need to restart the kernel to use updated packages.\n"
          ]
        }
      ],
      "source": [
        "pip show azure-ai-ml"
      ]
    },
    {
      "attachments": {},
      "cell_type": "markdown",
      "metadata": {},
      "source": [
        "## ワークスペースに接続する\n",
        "\n",
        "必要な SDK パッケージがインストールされ、ワークスペースに接続する準備が整いました。\n",
        "\n",
        "ワークスペースに接続するには、サブスクリプションID、リソースグループ名、ワークスペース名といった識別子のパラメータが必要だ。Azure Machine Learningが管理するコンピュートインスタンスで作業しているので、デフォルト値を使用してワークスペースに接続できる。"
      ]
    },
    {
      "cell_type": "code",
      "execution_count": 1,
      "metadata": {
        "gather": {
          "logged": 1731288208698
        },
        "jupyter": {
          "outputs_hidden": false,
          "source_hidden": false
        },
        "nteract": {
          "transient": {
            "deleting": false
          }
        }
      },
      "outputs": [],
      "source": [
        "from azure.identity import DefaultAzureCredential, InteractiveBrowserCredential\n",
        "from azure.ai.ml import MLClient\n",
        "\n",
        "try:\n",
        "    credential = DefaultAzureCredential()\n",
        "    # Check if given credential can get token successfully.\n",
        "    credential.get_token(\"https://management.azure.com/.default\")\n",
        "except Exception as ex:\n",
        "    # Fall back to InteractiveBrowserCredential in case DefaultAzureCredential not work\n",
        "    credential = InteractiveBrowserCredential()"
      ]
    },
    {
      "cell_type": "code",
      "execution_count": 2,
      "metadata": {
        "gather": {
          "logged": 1731288208768
        }
      },
      "outputs": [
        {
          "name": "stderr",
          "output_type": "stream",
          "text": [
            "Found the config file in: /config.json\n"
          ]
        }
      ],
      "source": [
        "# Get a handle to workspace\n",
        "ml_client = MLClient.from_config(credential=credential)"
      ]
    },
    {
      "attachments": {},
      "cell_type": "markdown",
      "metadata": {},
      "source": [
        "## MLflow の設定\n",
        "Azure Machine Learning studioのコンピュートインスタンス上でこのノートブックを実行しているので、MLflowを設定する必要はない。\n",
        "\n",
        "ただし、必要なライブラリがインストールされていることは確認しておきましょう。\n",
        "\n",
        "> 注**：\n",
        "> もし **mlflow** ライブラリがインストールされていない場合は、`pip install mlflow` を実行してインストールしてください。"
      ]
    },
    {
      "cell_type": "code",
      "execution_count": 3,
      "metadata": {
        "gather": {
          "logged": 1731288230112
        },
        "jupyter": {
          "outputs_hidden": false,
          "source_hidden": false
        },
        "nteract": {
          "transient": {
            "deleting": false
          }
        }
      },
      "outputs": [
        {
          "name": "stdout",
          "output_type": "stream",
          "text": [
            "Name: mlflow\r\n",
            "Version: 2.17.2\r\n",
            "Summary: MLflow is an open source platform for the complete machine learning lifecycle\r\n",
            "Home-page: \r\n",
            "Author: \r\n",
            "Author-email: \r\n",
            "License: Copyright 2018 Databricks, Inc.  All rights reserved.\r\n",
            "        \r\n",
            "                                        Apache License\r\n",
            "                                   Version 2.0, January 2004\r\n",
            "                                http://www.apache.org/licenses/\r\n",
            "        \r\n",
            "           TERMS AND CONDITIONS FOR USE, REPRODUCTION, AND DISTRIBUTION\r\n",
            "        \r\n",
            "           1. Definitions.\r\n",
            "        \r\n",
            "              \"License\" shall mean the terms and conditions for use, reproduction,\r\n",
            "              and distribution as defined by Sections 1 through 9 of this document.\r\n",
            "        \r\n",
            "              \"Licensor\" shall mean the copyright owner or entity authorized by\r\n",
            "              the copyright owner that is granting the License.\r\n",
            "        \r\n",
            "              \"Legal Entity\" shall mean the union of the acting entity and all\r\n",
            "              other entities that control, are controlled by, or are under common\r\n",
            "              control with that entity. For the purposes of this definition,\r\n",
            "              \"control\" means (i) the power, direct or indirect, to cause the\r\n",
            "              direction or management of such entity, whether by contract or\r\n",
            "              otherwise, or (ii) ownership of fifty percent (50%) or more of the\r\n",
            "              outstanding shares, or (iii) beneficial ownership of such entity.\r\n",
            "        \r\n",
            "              \"You\" (or \"Your\") shall mean an individual or Legal Entity\r\n",
            "              exercising permissions granted by this License.\r\n",
            "        \r\n",
            "              \"Source\" form shall mean the preferred form for making modifications,\r\n",
            "              including but not limited to software source code, documentation\r\n",
            "              source, and configuration files.\r\n",
            "        \r\n",
            "              \"Object\" form shall mean any form resulting from mechanical\r\n",
            "              transformation or translation of a Source form, including but\r\n",
            "              not limited to compiled object code, generated documentation,\r\n",
            "              and conversions to other media types.\r\n",
            "        \r\n",
            "              \"Work\" shall mean the work of authorship, whether in Source or\r\n",
            "              Object form, made available under the License, as indicated by a\r\n",
            "              copyright notice that is included in or attached to the work\r\n",
            "              (an example is provided in the Appendix below).\r\n",
            "        \r\n",
            "              \"Derivative Works\" shall mean any work, whether in Source or Object\r\n",
            "              form, that is based on (or derived from) the Work and for which the\r\n",
            "              editorial revisions, annotations, elaborations, or other modifications\r\n",
            "              represent, as a whole, an original work of authorship. For the purposes\r\n",
            "              of this License, Derivative Works shall not include works that remain\r\n",
            "              separable from, or merely link (or bind by name) to the interfaces of,\r\n",
            "              the Work and Derivative Works thereof.\r\n",
            "        \r\n",
            "              \"Contribution\" shall mean any work of authorship, including\r\n",
            "              the original version of the Work and any modifications or additions\r\n",
            "              to that Work or Derivative Works thereof, that is intentionally\r\n",
            "              submitted to Licensor for inclusion in the Work by the copyright owner\r\n",
            "              or by an individual or Legal Entity authorized to submit on behalf of\r\n",
            "              the copyright owner. For the purposes of this definition, \"submitted\"\r\n",
            "              means any form of electronic, verbal, or written communication sent\r\n",
            "              to the Licensor or its representatives, including but not limited to\r\n",
            "              communication on electronic mailing lists, source code control systems,\r\n",
            "              and issue tracking systems that are managed by, or on behalf of, the\r\n",
            "              Licensor for the purpose of discussing and improving the Work, but\r\n",
            "              excluding communication that is conspicuously marked or otherwise\r\n",
            "              designated in writing by the copyright owner as \"Not a Contribution.\"\r\n",
            "        \r\n",
            "              \"Contributor\" shall mean Licensor and any individual or Legal Entity\r\n",
            "              on behalf of whom a Contribution has been received by Licensor and\r\n",
            "              subsequently incorporated within the Work.\r\n",
            "        \r\n",
            "           2. Grant of Copyright License. Subject to the terms and conditions of\r\n",
            "              this License, each Contributor hereby grants to You a perpetual,\r\n",
            "              worldwide, non-exclusive, no-charge, royalty-free, irrevocable\r\n",
            "              copyright license to reproduce, prepare Derivative Works of,\r\n",
            "              publicly display, publicly perform, sublicense, and distribute the\r\n",
            "              Work and such Derivative Works in Source or Object form.\r\n",
            "        \r\n",
            "           3. Grant of Patent License. Subject to the terms and conditions of\r\n",
            "              this License, each Contributor hereby grants to You a perpetual,\r\n",
            "              worldwide, non-exclusive, no-charge, royalty-free, irrevocable\r\n",
            "              (except as stated in this section) patent license to make, have made,\r\n",
            "              use, offer to sell, sell, import, and otherwise transfer the Work,\r\n",
            "              where such license applies only to those patent claims licensable\r\n",
            "              by such Contributor that are necessarily infringed by their\r\n",
            "              Contribution(s) alone or by combination of their Contribution(s)\r\n",
            "              with the Work to which such Contribution(s) was submitted. If You\r\n",
            "              institute patent litigation against any entity (including a\r\n",
            "              cross-claim or counterclaim in a lawsuit) alleging that the Work\r\n",
            "              or a Contribution incorporated within the Work constitutes direct\r\n",
            "              or contributory patent infringement, then any patent licenses\r\n",
            "              granted to You under this License for that Work shall terminate\r\n",
            "              as of the date such litigation is filed.\r\n",
            "        \r\n",
            "           4. Redistribution. You may reproduce and distribute copies of the\r\n",
            "              Work or Derivative Works thereof in any medium, with or without\r\n",
            "              modifications, and in Source or Object form, provided that You\r\n",
            "              meet the following conditions:\r\n",
            "        \r\n",
            "              (a) You must give any other recipients of the Work or\r\n",
            "                  Derivative Works a copy of this License; and\r\n",
            "        \r\n",
            "              (b) You must cause any modified files to carry prominent notices\r\n",
            "                  stating that You changed the files; and\r\n",
            "        \r\n",
            "              (c) You must retain, in the Source form of any Derivative Works\r\n",
            "                  that You distribute, all copyright, patent, trademark, and\r\n",
            "                  attribution notices from the Source form of the Work,\r\n",
            "                  excluding those notices that do not pertain to any part of\r\n",
            "                  the Derivative Works; and\r\n",
            "        \r\n",
            "              (d) If the Work includes a \"NOTICE\" text file as part of its\r\n",
            "                  distribution, then any Derivative Works that You distribute must\r\n",
            "                  include a readable copy of the attribution notices contained\r\n",
            "                  within such NOTICE file, excluding those notices that do not\r\n",
            "                  pertain to any part of the Derivative Works, in at least one\r\n",
            "                  of the following places: within a NOTICE text file distributed\r\n",
            "                  as part of the Derivative Works; within the Source form or\r\n",
            "                  documentation, if provided along with the Derivative Works; or,\r\n",
            "                  within a display generated by the Derivative Works, if and\r\n",
            "                  wherever such third-party notices normally appear. The contents\r\n",
            "                  of the NOTICE file are for informational purposes only and\r\n",
            "                  do not modify the License. You may add Your own attribution\r\n",
            "                  notices within Derivative Works that You distribute, alongside\r\n",
            "                  or as an addendum to the NOTICE text from the Work, provided\r\n",
            "                  that such additional attribution notices cannot be construed\r\n",
            "                  as modifying the License.\r\n",
            "        \r\n",
            "              You may add Your own copyright statement to Your modifications and\r\n",
            "              may provide additional or different license terms and conditions\r\n",
            "              for use, reproduction, or distribution of Your modifications, or\r\n",
            "              for any such Derivative Works as a whole, provided Your use,\r\n",
            "              reproduction, and distribution of the Work otherwise complies with\r\n",
            "              the conditions stated in this License.\r\n",
            "        \r\n",
            "           5. Submission of Contributions. Unless You explicitly state otherwise,\r\n",
            "              any Contribution intentionally submitted for inclusion in the Work\r\n",
            "              by You to the Licensor shall be under the terms and conditions of\r\n",
            "              this License, without any additional terms or conditions.\r\n",
            "              Notwithstanding the above, nothing herein shall supersede or modify\r\n",
            "              the terms of any separate license agreement you may have executed\r\n",
            "              with Licensor regarding such Contributions.\r\n",
            "        \r\n",
            "           6. Trademarks. This License does not grant permission to use the trade\r\n",
            "              names, trademarks, service marks, or product names of the Licensor,\r\n",
            "              except as required for reasonable and customary use in describing the\r\n",
            "              origin of the Work and reproducing the content of the NOTICE file.\r\n",
            "        \r\n",
            "           7. Disclaimer of Warranty. Unless required by applicable law or\r\n",
            "              agreed to in writing, Licensor provides the Work (and each\r\n",
            "              Contributor provides its Contributions) on an \"AS IS\" BASIS,\r\n",
            "              WITHOUT WARRANTIES OR CONDITIONS OF ANY KIND, either express or\r\n",
            "              implied, including, without limitation, any warranties or conditions\r\n",
            "              of TITLE, NON-INFRINGEMENT, MERCHANTABILITY, or FITNESS FOR A\r\n",
            "              PARTICULAR PURPOSE. You are solely responsible for determining the\r\n",
            "              appropriateness of using or redistributing the Work and assume any\r\n",
            "              risks associated with Your exercise of permissions under this License.\r\n",
            "        \r\n",
            "           8. Limitation of Liability. In no event and under no legal theory,\r\n",
            "              whether in tort (including negligence), contract, or otherwise,\r\n",
            "              unless required by applicable law (such as deliberate and grossly\r\n",
            "              negligent acts) or agreed to in writing, shall any Contributor be\r\n",
            "              liable to You for damages, including any direct, indirect, special,\r\n",
            "              incidental, or consequential damages of any character arising as a\r\n",
            "              result of this License or out of the use or inability to use the\r\n",
            "              Work (including but not limited to damages for loss of goodwill,\r\n",
            "              work stoppage, computer failure or malfunction, or any and all\r\n",
            "              other commercial damages or losses), even if such Contributor\r\n",
            "              has been advised of the possibility of such damages.\r\n",
            "        \r\n",
            "           9. Accepting Warranty or Additional Liability. While redistributing\r\n",
            "              the Work or Derivative Works thereof, You may choose to offer,\r\n",
            "              and charge a fee for, acceptance of support, warranty, indemnity,\r\n",
            "              or other liability obligations and/or rights consistent with this\r\n",
            "              License. However, in accepting such obligations, You may act only\r\n",
            "              on Your own behalf and on Your sole responsibility, not on behalf\r\n",
            "              of any other Contributor, and only if You agree to indemnify,\r\n",
            "              defend, and hold each Contributor harmless for any liability\r\n",
            "              incurred by, or claims asserted against, such Contributor by reason\r\n",
            "              of your accepting any such warranty or additional liability.\r\n",
            "        \r\n",
            "           END OF TERMS AND CONDITIONS\r\n",
            "           APPENDIX: How to apply the Apache License to your work.\r\n",
            "        \r\n",
            "              To apply the Apache License to your work, attach the following\r\n",
            "              boilerplate notice, with the fields enclosed by brackets \"[]\"\r\n",
            "              replaced with your own identifying information. (Don't include\r\n",
            "              the brackets!)  The text should be enclosed in the appropriate\r\n",
            "              comment syntax for the file format. We also recommend that a\r\n",
            "              file or class name and description of purpose be included on the\r\n",
            "              same \"printed page\" as the copyright notice for easier\r\n",
            "              identification within third-party archives.\r\n",
            "        \r\n",
            "           Copyright [yyyy] [name of copyright owner]\r\n",
            "        \r\n",
            "           Licensed under the Apache License, Version 2.0 (the \"License\");\r\n",
            "           you may not use this file except in compliance with the License.\r\n",
            "           You may obtain a copy of the License at\r\n",
            "        \r\n",
            "               http://www.apache.org/licenses/LICENSE-2.0\r\n",
            "        \r\n",
            "           Unless required by applicable law or agreed to in writing, software\r\n",
            "           distributed under the License is distributed on an \"AS IS\" BASIS,\r\n",
            "           WITHOUT WARRANTIES OR CONDITIONS OF ANY KIND, either express or implied.\r\n",
            "           See the License for the specific language governing permissions and\r\n",
            "           limitations under the License.\r\n",
            "        \r\n",
            "Location: /anaconda/envs/azureml_py38/lib/python3.10/site-packages\r\n",
            "Requires: alembic, docker, Flask, graphene, gunicorn, Jinja2, markdown, matplotlib, mlflow-skinny, numpy, pandas, pyarrow, scikit-learn, scipy, sqlalchemy\r\n",
            "Required-by: \r\n",
            "Note: you may need to restart the kernel to use updated packages.\n"
          ]
        }
      ],
      "source": [
        "pip show mlflow"
      ]
    },
    {
      "cell_type": "code",
      "execution_count": 4,
      "metadata": {
        "gather": {
          "logged": 1731288236760
        },
        "jupyter": {
          "outputs_hidden": false,
          "source_hidden": false
        },
        "nteract": {
          "transient": {
            "deleting": false
          }
        }
      },
      "outputs": [
        {
          "name": "stdout",
          "output_type": "stream",
          "text": [
            "Requirement already satisfied: mlflow in /anaconda/envs/azureml_py38/lib/python3.10/site-packages (2.17.2)\n",
            "Requirement already satisfied: matplotlib<4 in /anaconda/envs/azureml_py38/lib/python3.10/site-packages (from mlflow) (3.6.3)\n",
            "Requirement already satisfied: Jinja2<4,>=2.11 in /anaconda/envs/azureml_py38/lib/python3.10/site-packages (from mlflow) (3.1.4)\n",
            "Requirement already satisfied: alembic!=1.10.0,<2 in /anaconda/envs/azureml_py38/lib/python3.10/site-packages (from mlflow) (1.14.0)\n",
            "Requirement already satisfied: markdown<4,>=3.3 in /anaconda/envs/azureml_py38/lib/python3.10/site-packages (from mlflow) (3.7)\n",
            "Requirement already satisfied: pyarrow<18,>=4.0.0 in /anaconda/envs/azureml_py38/lib/python3.10/site-packages (from mlflow) (14.0.2)\n",
            "Requirement already satisfied: sqlalchemy<3,>=1.4.0 in /anaconda/envs/azureml_py38/lib/python3.10/site-packages (from mlflow) (2.0.36)\n",
            "Requirement already satisfied: scipy<2 in /anaconda/envs/azureml_py38/lib/python3.10/site-packages (from mlflow) (1.10.1)\n",
            "Requirement already satisfied: docker<8,>=4.0.0 in /anaconda/envs/azureml_py38/lib/python3.10/site-packages (from mlflow) (7.1.0)\n",
            "Requirement already satisfied: pandas<3 in /anaconda/envs/azureml_py38/lib/python3.10/site-packages (from mlflow) (1.3.5)\n",
            "Requirement already satisfied: gunicorn<24 in /anaconda/envs/azureml_py38/lib/python3.10/site-packages (from mlflow) (22.0.0)\n",
            "Requirement already satisfied: graphene<4 in /anaconda/envs/azureml_py38/lib/python3.10/site-packages (from mlflow) (3.4.1)\n",
            "Requirement already satisfied: Flask<4 in /anaconda/envs/azureml_py38/lib/python3.10/site-packages (from mlflow) (2.3.2)\n",
            "Requirement already satisfied: mlflow-skinny==2.17.2 in /anaconda/envs/azureml_py38/lib/python3.10/site-packages (from mlflow) (2.17.2)\n",
            "Requirement already satisfied: scikit-learn<2 in /anaconda/envs/azureml_py38/lib/python3.10/site-packages (from mlflow) (1.5.1)\n",
            "Requirement already satisfied: numpy<3 in /anaconda/envs/azureml_py38/lib/python3.10/site-packages (from mlflow) (1.23.5)\n",
            "Requirement already satisfied: requests<3,>=2.17.3 in /anaconda/envs/azureml_py38/lib/python3.10/site-packages (from mlflow-skinny==2.17.2->mlflow) (2.32.3)\n",
            "Requirement already satisfied: packaging<25 in /anaconda/envs/azureml_py38/lib/python3.10/site-packages (from mlflow-skinny==2.17.2->mlflow) (24.1)\n",
            "Requirement already satisfied: databricks-sdk<1,>=0.20.0 in /anaconda/envs/azureml_py38/lib/python3.10/site-packages (from mlflow-skinny==2.17.2->mlflow) (0.29.0)\n",
            "Requirement already satisfied: opentelemetry-sdk<3,>=1.9.0 in /anaconda/envs/azureml_py38/lib/python3.10/site-packages (from mlflow-skinny==2.17.2->mlflow) (1.26.0)\n",
            "Requirement already satisfied: sqlparse<1,>=0.4.0 in /anaconda/envs/azureml_py38/lib/python3.10/site-packages (from mlflow-skinny==2.17.2->mlflow) (0.5.1)\n",
            "Requirement already satisfied: click<9,>=7.0 in /anaconda/envs/azureml_py38/lib/python3.10/site-packages (from mlflow-skinny==2.17.2->mlflow) (8.1.7)\n",
            "Requirement already satisfied: opentelemetry-api<3,>=1.9.0 in /anaconda/envs/azureml_py38/lib/python3.10/site-packages (from mlflow-skinny==2.17.2->mlflow) (1.26.0)\n",
            "Requirement already satisfied: cloudpickle<4 in /anaconda/envs/azureml_py38/lib/python3.10/site-packages (from mlflow-skinny==2.17.2->mlflow) (2.2.1)\n",
            "Requirement already satisfied: gitpython<4,>=3.1.9 in /anaconda/envs/azureml_py38/lib/python3.10/site-packages (from mlflow-skinny==2.17.2->mlflow) (3.1.43)\n",
            "Requirement already satisfied: importlib-metadata!=4.7.0,<9,>=3.7.0 in /anaconda/envs/azureml_py38/lib/python3.10/site-packages (from mlflow-skinny==2.17.2->mlflow) (8.0.0)\n",
            "Requirement already satisfied: pyyaml<7,>=5.1 in /anaconda/envs/azureml_py38/lib/python3.10/site-packages (from mlflow-skinny==2.17.2->mlflow) (6.0.1)\n",
            "Requirement already satisfied: protobuf<6,>=3.12.0 in /anaconda/envs/azureml_py38/lib/python3.10/site-packages (from mlflow-skinny==2.17.2->mlflow) (3.20.3)\n",
            "Requirement already satisfied: cachetools<6,>=5.0.0 in /anaconda/envs/azureml_py38/lib/python3.10/site-packages (from mlflow-skinny==2.17.2->mlflow) (5.4.0)\n",
            "Requirement already satisfied: Mako in /anaconda/envs/azureml_py38/lib/python3.10/site-packages (from alembic!=1.10.0,<2->mlflow) (1.3.6)\n",
            "Requirement already satisfied: typing-extensions>=4 in /anaconda/envs/azureml_py38/lib/python3.10/site-packages (from alembic!=1.10.0,<2->mlflow) (4.12.2)\n",
            "Requirement already satisfied: urllib3>=1.26.0 in /anaconda/envs/azureml_py38/lib/python3.10/site-packages (from docker<8,>=4.0.0->mlflow) (1.26.19)\n",
            "Requirement already satisfied: Werkzeug>=2.3.3 in /anaconda/envs/azureml_py38/lib/python3.10/site-packages (from Flask<4->mlflow) (3.0.3)\n",
            "Requirement already satisfied: blinker>=1.6.2 in /anaconda/envs/azureml_py38/lib/python3.10/site-packages (from Flask<4->mlflow) (1.8.2)\n",
            "Requirement already satisfied: itsdangerous>=2.1.2 in /anaconda/envs/azureml_py38/lib/python3.10/site-packages (from Flask<4->mlflow) (2.1.2)\n",
            "Requirement already satisfied: python-dateutil<3,>=2.7.0 in /anaconda/envs/azureml_py38/lib/python3.10/site-packages (from graphene<4->mlflow) (2.9.0.post0)\n",
            "Requirement already satisfied: graphql-relay<3.3,>=3.1 in /anaconda/envs/azureml_py38/lib/python3.10/site-packages (from graphene<4->mlflow) (3.2.0)\n",
            "Requirement already satisfied: graphql-core<3.3,>=3.1 in /anaconda/envs/azureml_py38/lib/python3.10/site-packages (from graphene<4->mlflow) (3.2.5)\n",
            "Requirement already satisfied: MarkupSafe>=2.0 in /anaconda/envs/azureml_py38/lib/python3.10/site-packages (from Jinja2<4,>=2.11->mlflow) (2.1.5)\n",
            "Requirement already satisfied: kiwisolver>=1.0.1 in /anaconda/envs/azureml_py38/lib/python3.10/site-packages (from matplotlib<4->mlflow) (1.4.5)\n",
            "Requirement already satisfied: pillow>=6.2.0 in /anaconda/envs/azureml_py38/lib/python3.10/site-packages (from matplotlib<4->mlflow) (9.2.0)\n",
            "Requirement already satisfied: contourpy>=1.0.1 in /anaconda/envs/azureml_py38/lib/python3.10/site-packages (from matplotlib<4->mlflow) (1.2.1)\n",
            "Requirement already satisfied: pyparsing>=2.2.1 in /anaconda/envs/azureml_py38/lib/python3.10/site-packages (from matplotlib<4->mlflow) (3.1.2)\n",
            "Requirement already satisfied: cycler>=0.10 in /anaconda/envs/azureml_py38/lib/python3.10/site-packages (from matplotlib<4->mlflow) (0.12.1)\n",
            "Requirement already satisfied: fonttools>=4.22.0 in /anaconda/envs/azureml_py38/lib/python3.10/site-packages (from matplotlib<4->mlflow) (4.51.0)\n",
            "Requirement already satisfied: pytz>=2017.3 in /anaconda/envs/azureml_py38/lib/python3.10/site-packages (from pandas<3->mlflow) (2022.5)\n",
            "Requirement already satisfied: threadpoolctl>=3.1.0 in /anaconda/envs/azureml_py38/lib/python3.10/site-packages (from scikit-learn<2->mlflow) (3.5.0)\n",
            "Requirement already satisfied: joblib>=1.2.0 in /anaconda/envs/azureml_py38/lib/python3.10/site-packages (from scikit-learn<2->mlflow) (1.2.0)\n",
            "Requirement already satisfied: greenlet!=0.4.17 in /anaconda/envs/azureml_py38/lib/python3.10/site-packages (from sqlalchemy<3,>=1.4.0->mlflow) (3.1.1)\n",
            "Requirement already satisfied: google-auth~=2.0 in /anaconda/envs/azureml_py38/lib/python3.10/site-packages (from databricks-sdk<1,>=0.20.0->mlflow-skinny==2.17.2->mlflow) (2.32.0)\n",
            "Requirement already satisfied: gitdb<5,>=4.0.1 in /anaconda/envs/azureml_py38/lib/python3.10/site-packages (from gitpython<4,>=3.1.9->mlflow-skinny==2.17.2->mlflow) (4.0.11)\n",
            "Requirement already satisfied: zipp>=0.5 in /anaconda/envs/azureml_py38/lib/python3.10/site-packages (from importlib-metadata!=4.7.0,<9,>=3.7.0->mlflow-skinny==2.17.2->mlflow) (3.20.2)\n",
            "Requirement already satisfied: deprecated>=1.2.6 in /anaconda/envs/azureml_py38/lib/python3.10/site-packages (from opentelemetry-api<3,>=1.9.0->mlflow-skinny==2.17.2->mlflow) (1.2.14)\n",
            "Requirement already satisfied: opentelemetry-semantic-conventions==0.47b0 in /anaconda/envs/azureml_py38/lib/python3.10/site-packages (from opentelemetry-sdk<3,>=1.9.0->mlflow-skinny==2.17.2->mlflow) (0.47b0)\n",
            "Requirement already satisfied: six>=1.5 in /anaconda/envs/azureml_py38/lib/python3.10/site-packages (from python-dateutil<3,>=2.7.0->graphene<4->mlflow) (1.16.0)\n",
            "Requirement already satisfied: certifi>=2017.4.17 in /anaconda/envs/azureml_py38/lib/python3.10/site-packages (from requests<3,>=2.17.3->mlflow-skinny==2.17.2->mlflow) (2024.8.30)\n",
            "Requirement already satisfied: charset-normalizer<4,>=2 in /anaconda/envs/azureml_py38/lib/python3.10/site-packages (from requests<3,>=2.17.3->mlflow-skinny==2.17.2->mlflow) (3.3.2)\n",
            "Requirement already satisfied: idna<4,>=2.5 in /anaconda/envs/azureml_py38/lib/python3.10/site-packages (from requests<3,>=2.17.3->mlflow-skinny==2.17.2->mlflow) (3.7)\n",
            "Requirement already satisfied: wrapt<2,>=1.10 in /anaconda/envs/azureml_py38/lib/python3.10/site-packages (from deprecated>=1.2.6->opentelemetry-api<3,>=1.9.0->mlflow-skinny==2.17.2->mlflow) (1.14.1)\n",
            "Requirement already satisfied: smmap<6,>=3.0.1 in /anaconda/envs/azureml_py38/lib/python3.10/site-packages (from gitdb<5,>=4.0.1->gitpython<4,>=3.1.9->mlflow-skinny==2.17.2->mlflow) (5.0.1)\n",
            "Requirement already satisfied: pyasn1-modules>=0.2.1 in /anaconda/envs/azureml_py38/lib/python3.10/site-packages (from google-auth~=2.0->databricks-sdk<1,>=0.20.0->mlflow-skinny==2.17.2->mlflow) (0.4.0)\n",
            "Requirement already satisfied: rsa<5,>=3.1.4 in /anaconda/envs/azureml_py38/lib/python3.10/site-packages (from google-auth~=2.0->databricks-sdk<1,>=0.20.0->mlflow-skinny==2.17.2->mlflow) (4.9)\n",
            "Requirement already satisfied: pyasn1<0.7.0,>=0.4.6 in /anaconda/envs/azureml_py38/lib/python3.10/site-packages (from pyasn1-modules>=0.2.1->google-auth~=2.0->databricks-sdk<1,>=0.20.0->mlflow-skinny==2.17.2->mlflow) (0.6.0)\n",
            "Note: you may need to restart the kernel to use updated packages.\n"
          ]
        }
      ],
      "source": [
        "pip install mlflow"
      ]
    },
    {
      "attachments": {},
      "cell_type": "markdown",
      "metadata": {},
      "source": [
        "## Prepare the data\n",
        "\n",
        "糖尿病分類モデルをトレーニングします。学習データは**data**フォルダに**diabetes.csv**として格納されています。\n",
        "まず、データを読んでみましょう："
      ]
    },
    {
      "cell_type": "code",
      "execution_count": 5,
      "metadata": {
        "gather": {
          "logged": 1731288256728
        }
      },
      "outputs": [
        {
          "name": "stdout",
          "output_type": "stream",
          "text": [
            "Reading data...\n"
          ]
        },
        {
          "data": {
            "text/html": [
              "<div>\n",
              "<style scoped>\n",
              "    .dataframe tbody tr th:only-of-type {\n",
              "        vertical-align: middle;\n",
              "    }\n",
              "\n",
              "    .dataframe tbody tr th {\n",
              "        vertical-align: top;\n",
              "    }\n",
              "\n",
              "    .dataframe thead th {\n",
              "        text-align: right;\n",
              "    }\n",
              "</style>\n",
              "<table border=\"1\" class=\"dataframe\">\n",
              "  <thead>\n",
              "    <tr style=\"text-align: right;\">\n",
              "      <th></th>\n",
              "      <th>PatientID</th>\n",
              "      <th>Pregnancies</th>\n",
              "      <th>PlasmaGlucose</th>\n",
              "      <th>DiastolicBloodPressure</th>\n",
              "      <th>TricepsThickness</th>\n",
              "      <th>SerumInsulin</th>\n",
              "      <th>BMI</th>\n",
              "      <th>DiabetesPedigree</th>\n",
              "      <th>Age</th>\n",
              "      <th>Diabetic</th>\n",
              "    </tr>\n",
              "  </thead>\n",
              "  <tbody>\n",
              "    <tr>\n",
              "      <th>0</th>\n",
              "      <td>1354778</td>\n",
              "      <td>0</td>\n",
              "      <td>171</td>\n",
              "      <td>80</td>\n",
              "      <td>34</td>\n",
              "      <td>23</td>\n",
              "      <td>43.509726</td>\n",
              "      <td>1.213191</td>\n",
              "      <td>21</td>\n",
              "      <td>0</td>\n",
              "    </tr>\n",
              "    <tr>\n",
              "      <th>1</th>\n",
              "      <td>1147438</td>\n",
              "      <td>8</td>\n",
              "      <td>92</td>\n",
              "      <td>93</td>\n",
              "      <td>47</td>\n",
              "      <td>36</td>\n",
              "      <td>21.240576</td>\n",
              "      <td>0.158365</td>\n",
              "      <td>23</td>\n",
              "      <td>0</td>\n",
              "    </tr>\n",
              "    <tr>\n",
              "      <th>2</th>\n",
              "      <td>1640031</td>\n",
              "      <td>7</td>\n",
              "      <td>115</td>\n",
              "      <td>47</td>\n",
              "      <td>52</td>\n",
              "      <td>35</td>\n",
              "      <td>41.511523</td>\n",
              "      <td>0.079019</td>\n",
              "      <td>23</td>\n",
              "      <td>0</td>\n",
              "    </tr>\n",
              "    <tr>\n",
              "      <th>3</th>\n",
              "      <td>1883350</td>\n",
              "      <td>9</td>\n",
              "      <td>103</td>\n",
              "      <td>78</td>\n",
              "      <td>25</td>\n",
              "      <td>304</td>\n",
              "      <td>29.582192</td>\n",
              "      <td>1.282870</td>\n",
              "      <td>43</td>\n",
              "      <td>1</td>\n",
              "    </tr>\n",
              "    <tr>\n",
              "      <th>4</th>\n",
              "      <td>1424119</td>\n",
              "      <td>1</td>\n",
              "      <td>85</td>\n",
              "      <td>59</td>\n",
              "      <td>27</td>\n",
              "      <td>35</td>\n",
              "      <td>42.604536</td>\n",
              "      <td>0.549542</td>\n",
              "      <td>22</td>\n",
              "      <td>0</td>\n",
              "    </tr>\n",
              "  </tbody>\n",
              "</table>\n",
              "</div>"
            ],
            "text/plain": [
              "   PatientID  Pregnancies  PlasmaGlucose  DiastolicBloodPressure  \\\n",
              "0    1354778            0            171                      80   \n",
              "1    1147438            8             92                      93   \n",
              "2    1640031            7            115                      47   \n",
              "3    1883350            9            103                      78   \n",
              "4    1424119            1             85                      59   \n",
              "\n",
              "   TricepsThickness  SerumInsulin        BMI  DiabetesPedigree  Age  Diabetic  \n",
              "0                34            23  43.509726          1.213191   21         0  \n",
              "1                47            36  21.240576          0.158365   23         0  \n",
              "2                52            35  41.511523          0.079019   23         0  \n",
              "3                25           304  29.582192          1.282870   43         1  \n",
              "4                27            35  42.604536          0.549542   22         0  "
            ]
          },
          "execution_count": 5,
          "metadata": {},
          "output_type": "execute_result"
        }
      ],
      "source": [
        "import pandas as pd\n",
        "\n",
        "print(\"Reading data...\")\n",
        "df = pd.read_csv('./data/diabetes.csv')\n",
        "df.head()"
      ]
    },
    {
      "attachments": {},
      "cell_type": "markdown",
      "metadata": {},
      "source": [
        "Next, you'll split the data into features and the label (Diabetes):"
      ]
    },
    {
      "cell_type": "code",
      "execution_count": 6,
      "metadata": {
        "gather": {
          "logged": 1731288258730
        }
      },
      "outputs": [
        {
          "name": "stdout",
          "output_type": "stream",
          "text": [
            "Splitting data...\n"
          ]
        }
      ],
      "source": [
        "print(\"Splitting data...\")\n",
        "X, y = df[['Pregnancies','PlasmaGlucose','DiastolicBloodPressure','TricepsThickness','SerumInsulin','BMI','DiabetesPedigree','Age']].values, df['Diabetic'].values"
      ]
    },
    {
      "cell_type": "code",
      "execution_count": 8,
      "metadata": {
        "gather": {
          "logged": 1731281779265
        }
      },
      "outputs": [],
      "source": [
        "from sklearn.model_selection import train_test_split\n",
        "\n",
        "X_train, X_test, y_train, y_test = train_test_split(X, y, test_size=0.30, random_state=0)"
      ]
    },
    {
      "attachments": {},
      "cell_type": "markdown",
      "metadata": {},
      "source": [
        "モデルの結果を追跡するもう1つの理由は、別の推定量をテストするときです。これまで学習したモデルはすべてロジスティック回帰推定を用いています。\n",
        "\n",
        "次のセルを実行して、決定木を用いてモデルを訓練し、他の実行と比較して精度が高いかどうかを確認します。"
      ]
    },
    {
      "cell_type": "code",
      "execution_count": 14,
      "metadata": {
        "gather": {
          "logged": 1731127789714
        },
        "jupyter": {
          "outputs_hidden": false,
          "source_hidden": false
        },
        "nteract": {
          "transient": {
            "deleting": false
          }
        }
      },
      "outputs": [
        {
          "name": "stderr",
          "output_type": "stream",
          "text": [
            "2024/11/09 04:49:49 INFO mlflow.tracking._tracking_service.client: 🏃 View run plum_duck_ycd6smzy at: https://westus.api.azureml.ms/mlflow/v2.0/subscriptions/2fbd9cca-a295-4d4f-a5c4-bf80e223260f/resourceGroups/ai-900/providers/Microsoft.MachineLearningServices/workspaces/koikedemo/#/experiments/868412a1-1e72-44ae-a150-3e1cebcbdf51/runs/9f94a26d-0d0f-428e-8013-b7079bc00eef.\n",
            "2024/11/09 04:49:49 INFO mlflow.tracking._tracking_service.client: 🧪 View experiment at: https://westus.api.azureml.ms/mlflow/v2.0/subscriptions/2fbd9cca-a295-4d4f-a5c4-bf80e223260f/resourceGroups/ai-900/providers/Microsoft.MachineLearningServices/workspaces/koikedemo/#/experiments/868412a1-1e72-44ae-a150-3e1cebcbdf51.\n"
          ]
        }
      ],
      "source": [
        "from sklearn.tree import DecisionTreeClassifier\n",
        "import numpy as np\n",
        "\n",
        "with mlflow.start_run():\n",
        "    model = DecisionTreeClassifier().fit(X_train, y_train)\n",
        "\n",
        "    y_hat = model.predict(X_test)\n",
        "    acc = np.average(y_hat == y_test)\n",
        "\n",
        "    mlflow.log_param(\"estimator\", \"DecisionTreeClassifier\")\n",
        "    mlflow.log_metric(\"Accuracy\", acc)"
      ]
    },
    {
      "attachments": {},
      "cell_type": "markdown",
      "metadata": {},
      "source": [
        "最後に、アーティファクトを記録してみよう。アーチファクトはどのようなファイルでもよい。例えば、ROC曲線をプロットし、そのプロットを画像として保存することができる。その画像をアーティファクトとしてログに記録することができる。\n",
        "\n",
        "以下のセルを実行して、パラメータ、メトリクス、アーチファクトをログに記録します。"
      ]
    },
    {
      "cell_type": "code",
      "execution_count": null,
      "metadata": {},
      "outputs": [],
      "source": [
        "from sklearn.tree import DecisionTreeClassifier\n",
        "from sklearn.metrics import roc_curve\n",
        "import matplotlib.pyplot as plt\n",
        "import numpy as np\n",
        "\n",
        "with mlflow.start_run():\n",
        "    model = DecisionTreeClassifier().fit(X_train, y_train)\n",
        "\n",
        "    y_hat = model.predict(X_test)\n",
        "    acc = np.average(y_hat == y_test)\n",
        "\n",
        "    # plot ROC curve\n",
        "    y_scores = model.predict_proba(X_test)\n",
        "\n",
        "    fpr, tpr, thresholds = roc_curve(y_test, y_scores[:,1])\n",
        "    fig = plt.figure(figsize=(6, 4))\n",
        "    # Plot the diagonal 50% line\n",
        "    plt.plot([0, 1], [0, 1], 'k--')\n",
        "    # Plot the FPR and TPR achieved by our model\n",
        "    plt.plot(fpr, tpr)\n",
        "    plt.xlabel('False Positive Rate')\n",
        "    plt.ylabel('True Positive Rate')\n",
        "    plt.title('ROC Curve')\n",
        "    plt.savefig(\"ROC-Curve.png\")\n",
        "\n",
        "    mlflow.log_param(\"estimator\", \"DecisionTreeClassifier\")\n",
        "    mlflow.log_metric(\"Accuracy\", acc)\n",
        "    mlflow.log_artifact(\"ROC-Curve.png\")"
      ]
    },
    {
      "attachments": {},
      "cell_type": "markdown",
      "metadata": {},
      "source": [
        "Azure Machine LearningスタジオのJobsページでモデルの結果を確認する。\n",
        "\n",
        "- パラメータは、**Overview** タブの **Params** の下にあります。\n",
        "- メトリクスは、**Overview** タブの **Metrics** と、**Metrics** タブにあります。\n",
        "- 成果物は、**Outputs + logs** タブにあります。\n"
      ]
    }
  ],
  "metadata": {
    "interpreter": {
      "hash": "f2b2cd046deda8eabef1e765a11d0ec9aa9bd1d31d56ce79c815a38c323e14ec"
    },
    "kernel_info": {
      "name": "python38-azureml"
    },
    "kernelspec": {
      "display_name": "Python 3.8 - AzureML",
      "language": "python",
      "name": "python38-azureml"
    },
    "language_info": {
      "codemirror_mode": {
        "name": "ipython",
        "version": 3
      },
      "file_extension": ".py",
      "mimetype": "text/x-python",
      "name": "python",
      "nbconvert_exporter": "python",
      "pygments_lexer": "ipython3",
      "version": "3.10.11"
    },
    "microsoft": {
      "host": {
        "AzureML": {
          "notebookHasBeenCompleted": true
        }
      }
    },
    "nteract": {
      "version": "nteract-front-end@1.0.0"
    }
  },
  "nbformat": 4,
  "nbformat_minor": 0
}
