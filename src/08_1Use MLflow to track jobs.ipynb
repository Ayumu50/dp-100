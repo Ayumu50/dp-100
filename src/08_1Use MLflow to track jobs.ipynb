{
  "cells": [
    {
      "attachments": {},
      "cell_type": "markdown",
      "source": [
        "# トレーニングスクリプトをコマンドジョブとして実行する\n",
        "\n",
        "Python SDK for Azure Machine Learningを使用すると、スクリプトをコマンドジョブとして投入できます。ジョブを利用することで、機械学習モデルを学習する際の入力パラメーターや出力を簡単に把握することができます。\n",
        "\n",
        "## 始める前に\n",
        "\n",
        "このノートブックのコードを実行するには、最新バージョンの **azure-ai-ml** パッケージが必要です。以下のセルを実行して、インストールされていることを確認してください。\n",
        "\n",
        "> 注**：\n",
        "> もし **azure-ai-ml** パッケージがインストールされていない場合は、`pip install azure-ai-ml` を実行してインストールしてください。"
      ],
      "metadata": {}
    },
    {
      "cell_type": "code",
      "source": [
        "pip show azure-ai-ml"
      ],
      "outputs": [
        {
          "output_type": "stream",
          "name": "stdout",
          "text": "Name: azure-ai-ml\r\nVersion: 1.21.1\r\nSummary: Microsoft Azure Machine Learning Client Library for Python\r\nHome-page: https://github.com/Azure/azure-sdk-for-python\r\nAuthor: Microsoft Corporation\r\nAuthor-email: azuresdkengsysadmins@microsoft.com\r\nLicense: MIT License\r\nLocation: /anaconda/envs/azureml_py38/lib/python3.10/site-packages\r\nRequires: azure-common, azure-core, azure-mgmt-core, azure-storage-blob, azure-storage-file-datalake, azure-storage-file-share, colorama, isodate, jsonschema, marshmallow, msrest, opencensus-ext-azure, opencensus-ext-logging, pydash, pyjwt, pyyaml, strictyaml, tqdm, typing-extensions\r\nRequired-by: \r\nNote: you may need to restart the kernel to use updated packages.\n"
        }
      ],
      "execution_count": 1,
      "metadata": {
        "vscode": {
          "languageId": "python"
        },
        "gather": {
          "logged": 1731374620582
        }
      }
    },
    {
      "attachments": {},
      "cell_type": "markdown",
      "source": [
        "## ワークスペースに接続する\n",
        "\n",
        "必要な SDK パッケージがインストールされ、ワークスペースに接続する準備が整いました。\n",
        "\n",
        "ワークスペースに接続するには、サブスクリプションID、リソースグループ名、ワークスペース名といった識別子のパラメータが必要だ。Azure Machine Learningが管理するコンピュートインスタンスで作業しているので、デフォルト値を使用してワークスペースに接続できる。"
      ],
      "metadata": {}
    },
    {
      "cell_type": "code",
      "source": [
        "from azure.identity import DefaultAzureCredential, InteractiveBrowserCredential\n",
        "from azure.ai.ml import MLClient\n",
        "\n",
        "try:\n",
        "    credential = DefaultAzureCredential()\n",
        "    # Check if given credential can get token successfully.\n",
        "    credential.get_token(\"https://management.azure.com/.default\")\n",
        "except Exception as ex:\n",
        "    # Fall back to InteractiveBrowserCredential in case DefaultAzureCredential not work\n",
        "    credential = InteractiveBrowserCredential()"
      ],
      "outputs": [],
      "execution_count": 2,
      "metadata": {
        "gather": {
          "logged": 1731374623012
        },
        "vscode": {
          "languageId": "python"
        }
      }
    },
    {
      "cell_type": "code",
      "source": [
        "# Get a handle to workspace\n",
        "ml_client = MLClient.from_config(credential=credential)"
      ],
      "outputs": [
        {
          "output_type": "stream",
          "name": "stderr",
          "text": "Found the config file in: /config.json\n"
        }
      ],
      "execution_count": 3,
      "metadata": {
        "vscode": {
          "languageId": "python"
        },
        "gather": {
          "logged": 1731374623119
        }
      }
    },
    {
      "attachments": {},
      "cell_type": "markdown",
      "source": [
        "## MLflow によるカスタムトラッキング\n",
        "\n",
        "スクリプトをジョブとして実行する場合、トレーニングスクリプトで MLflow を使用してモデルを追跡することができます。MLflow では、ジョブの出力と一緒に保存したいカスタムパラメータ、メトリクス、成果物を追跡することができます。\n",
        "\n",
        "以下のセルを実行して、**src** フォルダに **train-model-mlflow.py** スクリプトを作成します。このスクリプトは、引数として渡される同じフォルダ内の **diabetes.csv** ファイルを使用して分類モデルをトレーニングします。\n",
        "\n",
        "スクリプトが `mlflow` とログをインポートすることを見つけるために、以下のコードを見てください：\n",
        "\n",
        "- パラメータ**として正則化率。\n",
        "- パラメータ**としての正則化率。\n",
        "- プロットされた ROC 曲線。"
      ],
      "metadata": {}
    },
    {
      "cell_type": "code",
      "source": [
        "import os\n",
        "\n",
        "# create a folder for the script files\n",
        "script_folder = 'src'\n",
        "os.makedirs(script_folder, exist_ok=True)\n",
        "print(script_folder, 'folder created')"
      ],
      "outputs": [
        {
          "output_type": "stream",
          "name": "stdout",
          "text": "src folder created\n"
        }
      ],
      "execution_count": 4,
      "metadata": {
        "vscode": {
          "languageId": "python"
        },
        "gather": {
          "logged": 1731374623165
        }
      }
    },
    {
      "cell_type": "code",
      "source": [
        "%%writefile $script_folder/train-model-mlflow.py\n",
        "# import libraries\n",
        "import mlflow\n",
        "import argparse\n",
        "import pandas as pd\n",
        "import numpy as np\n",
        "from sklearn.model_selection import train_test_split\n",
        "from sklearn.linear_model import LogisticRegression\n",
        "from sklearn.metrics import roc_auc_score\n",
        "from sklearn.metrics import roc_curve\n",
        "import matplotlib.pyplot as plt\n",
        "\n",
        "def main(args):\n",
        "    # read data\n",
        "    df = get_data(args.training_data)\n",
        "\n",
        "    # split data\n",
        "    X_train, X_test, y_train, y_test = split_data(df)\n",
        "\n",
        "    # train model\n",
        "    model = train_model(args.reg_rate, X_train, X_test, y_train, y_test)\n",
        "\n",
        "    # evaluate model\n",
        "    eval_model(model, X_test, y_test)\n",
        "\n",
        "# function that reads the data\n",
        "def get_data(path):\n",
        "    print(\"Reading data...\")\n",
        "    df = pd.read_csv(path)\n",
        "    \n",
        "    return df\n",
        "\n",
        "# function that splits the data\n",
        "def split_data(df):\n",
        "    print(\"Splitting data...\")\n",
        "    X, y = df[['Pregnancies','PlasmaGlucose','DiastolicBloodPressure','TricepsThickness',\n",
        "    'SerumInsulin','BMI','DiabetesPedigree','Age']].values, df['Diabetic'].values\n",
        "\n",
        "    X_train, X_test, y_train, y_test = train_test_split(X, y, test_size=0.30, random_state=0)\n",
        "\n",
        "    return X_train, X_test, y_train, y_test\n",
        "\n",
        "# function that trains the model\n",
        "def train_model(reg_rate, X_train, X_test, y_train, y_test):\n",
        "    mlflow.log_param(\"Regularization rate\", reg_rate)\n",
        "    print(\"Training model...\")\n",
        "    model = LogisticRegression(C=1/reg_rate, solver=\"liblinear\").fit(X_train, y_train)\n",
        "\n",
        "    return model\n",
        "\n",
        "# function that evaluates the model\n",
        "def eval_model(model, X_test, y_test):\n",
        "    # calculate accuracy\n",
        "    y_hat = model.predict(X_test)\n",
        "    acc = np.average(y_hat == y_test)\n",
        "    print('Accuracy:', acc)\n",
        "    mlflow.log_metric(\"Accuracy\", acc)\n",
        "\n",
        "    # calculate AUC\n",
        "    y_scores = model.predict_proba(X_test)\n",
        "    auc = roc_auc_score(y_test,y_scores[:,1])\n",
        "    print('AUC: ' + str(auc))\n",
        "    mlflow.log_metric(\"AUC\", auc)\n",
        "\n",
        "    # plot ROC curve\n",
        "    fpr, tpr, thresholds = roc_curve(y_test, y_scores[:,1])\n",
        "    fig = plt.figure(figsize=(6, 4))\n",
        "    # Plot the diagonal 50% line\n",
        "    plt.plot([0, 1], [0, 1], 'k--')\n",
        "    # Plot the FPR and TPR achieved by our model\n",
        "    plt.plot(fpr, tpr)\n",
        "    plt.xlabel('False Positive Rate')\n",
        "    plt.ylabel('True Positive Rate')\n",
        "    plt.title('ROC Curve')\n",
        "    plt.savefig(\"ROC-Curve.png\")\n",
        "    mlflow.log_artifact(\"ROC-Curve.png\")    \n",
        "\n",
        "def parse_args():\n",
        "    # setup arg parser\n",
        "    parser = argparse.ArgumentParser()\n",
        "\n",
        "    # add arguments\n",
        "    parser.add_argument(\"--training_data\", dest='training_data',\n",
        "                        type=str)\n",
        "    parser.add_argument(\"--reg_rate\", dest='reg_rate',\n",
        "                        type=float, default=0.01)\n",
        "\n",
        "    # parse args\n",
        "    args = parser.parse_args()\n",
        "\n",
        "    # return args\n",
        "    return args\n",
        "\n",
        "# run script\n",
        "if __name__ == \"__main__\":\n",
        "    # add space in logs\n",
        "    print(\"\\n\\n\")\n",
        "    print(\"*\" * 60)\n",
        "\n",
        "    # parse args\n",
        "    args = parse_args()\n",
        "\n",
        "    # run main function\n",
        "    main(args)\n",
        "\n",
        "    # add space in logs\n",
        "    print(\"*\" * 60)\n",
        "    print(\"\\n\\n\")\n"
      ],
      "outputs": [
        {
          "output_type": "stream",
          "name": "stdout",
          "text": "Writing src/train-model-mlflow.py\n"
        }
      ],
      "execution_count": 5,
      "metadata": {
        "vscode": {
          "languageId": "python"
        }
      }
    },
    {
      "attachments": {},
      "cell_type": "markdown",
      "source": [
        "これで、スクリプトをコマンド・ジョブとして投入できる。\n",
        "以下のセルを実行してモデルをトレーニングします。"
      ],
      "metadata": {}
    },
    {
      "cell_type": "code",
      "source": [
        "from azure.ai.ml import command\n",
        "\n",
        "# configure job\n",
        "\n",
        "job = command(\n",
        "    code=\"./src\",\n",
        "    command=\"python train-model-mlflow.py --training_data diabetes.csv\",\n",
        "    environment=\"AzureML-sklearn-0.24-ubuntu18.04-py37-cpu@latest\",\n",
        "    compute=\"aml-cluster\",\n",
        "    display_name=\"diabetes-train-mlflow\",\n",
        "    experiment_name=\"diabetes-training\", \n",
        "    tags={\"model_type\": \"LogisticRegression\"}\n",
        "    )\n",
        "\n",
        "# submit job\n",
        "returned_job = ml_client.create_or_update(job)\n",
        "aml_url = returned_job.studio_url\n",
        "print(\"Monitor your job at\", aml_url)"
      ],
      "outputs": [
        {
          "output_type": "stream",
          "name": "stderr",
          "text": "Class AutoDeleteSettingSchema: This is an experimental class, and may change at any time. Please see https://aka.ms/azuremlexperimental for more information.\nClass AutoDeleteConditionSchema: This is an experimental class, and may change at any time. Please see https://aka.ms/azuremlexperimental for more information.\nClass BaseAutoDeleteSettingSchema: This is an experimental class, and may change at any time. Please see https://aka.ms/azuremlexperimental for more information.\nClass IntellectualPropertySchema: This is an experimental class, and may change at any time. Please see https://aka.ms/azuremlexperimental for more information.\nClass ProtectionLevelSchema: This is an experimental class, and may change at any time. Please see https://aka.ms/azuremlexperimental for more information.\nClass BaseIntellectualPropertySchema: This is an experimental class, and may change at any time. Please see https://aka.ms/azuremlexperimental for more information.\n\u001b[32mUploading src (0.53 MBs): 100%|██████████| 528314/528314 [00:00<00:00, 7300102.20it/s]\n\u001b[39m\n\n"
        },
        {
          "output_type": "stream",
          "name": "stdout",
          "text": "Monitor your job at https://ml.azure.com/runs/musing_sock_rgc0ct58r1?wsid=/subscriptions/2fbd9cca-a295-4d4f-a5c4-bf80e223260f/resourcegroups/ai-900/workspaces/koikedemo&tid=adcb56ab-ed63-4be3-8e5e-2fa7d2eb44e1\n"
        }
      ],
      "execution_count": 6,
      "metadata": {
        "vscode": {
          "languageId": "python"
        },
        "gather": {
          "logged": 1731374626338
        }
      }
    },
    {
      "attachments": {},
      "cell_type": "markdown",
      "source": [
        "スタジオで、**diabetes-train-mlflow** ジョブに移動し、実行したコマンドジョブの概要を調べます：\n",
        "- Overview**]タブの[**Params**]で、ログに記録されたパラメータを検索します。\n",
        "- ログに記録されたメトリクスを **Metrics** タブで見つけます。\n",
        "- Images**タブ、および**Outputs + logs**タブ（すべてのファイル）で、ログに記録されたアーティファクトを見つけます。"
      ],
      "metadata": {}
    },
    {
      "attachments": {},
      "cell_type": "markdown",
      "source": [
        "## MLflow による自動ロギング\n",
        "カスタムロギングを使用する代わりに、MLflow は任意のパラメータ、メトリクス、および成果物を自動的にロギングすることもできます。MLflowによるオートロギングに必要なコードは1行だけです。\n",
        "\n",
        "以下のセルを実行して、**src** フォルダに **train-model-autolog.py** スクリプトを作成します。このスクリプトは、引数として渡される同じフォルダの **diabetes.csv** ファイルを用いて分類モデルを学習します。\n",
        "\n",
        "以下のコードを見て、スクリプトが `mlflow` をインポートし、次の行でオートログを有効にしていることを確認する： \n",
        "\n",
        "mlflow.autolog()`"
      ],
      "metadata": {}
    },
    {
      "cell_type": "code",
      "source": [
        "%%writefile $script_folder/train-model-autolog.py\n",
        "# import libraries\n",
        "import mlflow\n",
        "import argparse\n",
        "import pandas as pd\n",
        "import numpy as np\n",
        "from sklearn.model_selection import train_test_split\n",
        "from sklearn.linear_model import LogisticRegression\n",
        "from sklearn.metrics import roc_auc_score\n",
        "from sklearn.metrics import roc_curve\n",
        "import matplotlib.pyplot as plt\n",
        "\n",
        "def main(args):\n",
        "    # enable autologging\n",
        "    mlflow.autolog()\n",
        "\n",
        "    # read data\n",
        "    df = get_data(args.training_data)\n",
        "\n",
        "    # split data\n",
        "    X_train, X_test, y_train, y_test = split_data(df)\n",
        "\n",
        "    # train model\n",
        "    model = train_model(args.reg_rate, X_train, X_test, y_train, y_test)\n",
        "\n",
        "    eval_model(model, X_test, y_test)\n",
        "\n",
        "# function that reads the data\n",
        "def get_data(path):\n",
        "    print(\"Reading data...\")\n",
        "    df = pd.read_csv(path)\n",
        "    \n",
        "    return df\n",
        "\n",
        "# function that splits the data\n",
        "def split_data(df):\n",
        "    print(\"Splitting data...\")\n",
        "    X, y = df[['Pregnancies','PlasmaGlucose','DiastolicBloodPressure','TricepsThickness',\n",
        "    'SerumInsulin','BMI','DiabetesPedigree','Age']].values, df['Diabetic'].values\n",
        "\n",
        "    X_train, X_test, y_train, y_test = train_test_split(X, y, test_size=0.30, random_state=0)\n",
        "\n",
        "    return X_train, X_test, y_train, y_test\n",
        "\n",
        "# function that trains the model\n",
        "def train_model(reg_rate, X_train, X_test, y_train, y_test):\n",
        "    print(\"Training model...\")\n",
        "    model = LogisticRegression(C=1/reg_rate, solver=\"liblinear\").fit(X_train, y_train)\n",
        "\n",
        "    return model\n",
        "\n",
        "# function that evaluates the model\n",
        "def eval_model(model, X_test, y_test):\n",
        "    # calculate accuracy\n",
        "    y_hat = model.predict(X_test)\n",
        "    acc = np.average(y_hat == y_test)\n",
        "    print('Accuracy:', acc)\n",
        "\n",
        "    # calculate AUC\n",
        "    y_scores = model.predict_proba(X_test)\n",
        "    auc = roc_auc_score(y_test,y_scores[:,1])\n",
        "    print('AUC: ' + str(auc))\n",
        "\n",
        "    # plot ROC curve\n",
        "    fpr, tpr, thresholds = roc_curve(y_test, y_scores[:,1])\n",
        "    fig = plt.figure(figsize=(6, 4))\n",
        "    # Plot the diagonal 50% line\n",
        "    plt.plot([0, 1], [0, 1], 'k--')\n",
        "    # Plot the FPR and TPR achieved by our model\n",
        "    plt.plot(fpr, tpr)\n",
        "    plt.xlabel('False Positive Rate')\n",
        "    plt.ylabel('True Positive Rate')\n",
        "    plt.title('ROC Curve')\n",
        "    plt.savefig(\"ROC-Curve.png\") \n",
        "\n",
        "def parse_args():\n",
        "    # setup arg parser\n",
        "    parser = argparse.ArgumentParser()\n",
        "\n",
        "    # add arguments\n",
        "    parser.add_argument(\"--training_data\", dest='training_data',\n",
        "                        type=str)\n",
        "    parser.add_argument(\"--reg_rate\", dest='reg_rate',\n",
        "                        type=float, default=0.01)\n",
        "\n",
        "    # parse args\n",
        "    args = parser.parse_args()\n",
        "\n",
        "    # return args\n",
        "    return args\n",
        "\n",
        "# run script\n",
        "if __name__ == \"__main__\":\n",
        "    # add space in logs\n",
        "    print(\"\\n\\n\")\n",
        "    print(\"*\" * 60)\n",
        "\n",
        "    # parse args\n",
        "    args = parse_args()\n",
        "\n",
        "    # run main function\n",
        "    main(args)\n",
        "\n",
        "    # add space in logs\n",
        "    print(\"*\" * 60)\n",
        "    print(\"\\n\\n\")\n"
      ],
      "outputs": [
        {
          "output_type": "stream",
          "name": "stdout",
          "text": "Writing src/train-model-autolog.py\n"
        }
      ],
      "execution_count": 7,
      "metadata": {
        "vscode": {
          "languageId": "python"
        }
      }
    },
    {
      "attachments": {},
      "cell_type": "markdown",
      "source": [
        "これで、スクリプトをコマンド・ジョブとして投入できる。\n",
        "以下のセルを実行してモデルをトレーニングします。"
      ],
      "metadata": {}
    },
    {
      "cell_type": "code",
      "source": [
        "from azure.ai.ml import command\n",
        "\n",
        "# configure job\n",
        "\n",
        "job = command(\n",
        "    code=\"./src\",\n",
        "    command=\"python train-model-autolog.py --training_data diabetes.csv\",\n",
        "    environment=\"AzureML-sklearn-0.24-ubuntu18.04-py37-cpu@latest\",\n",
        "    compute=\"aml-cluster\",\n",
        "    display_name=\"diabetes-train-autolog\",\n",
        "    experiment_name=\"diabetes-training\"\n",
        "    )\n",
        "\n",
        "# submit job\n",
        "returned_job = ml_client.create_or_update(job)\n",
        "aml_url = returned_job.studio_url\n",
        "print(\"Monitor your job at\", aml_url)"
      ],
      "outputs": [
        {
          "output_type": "stream",
          "name": "stderr",
          "text": "\r\u001b[32mUploading src (0.53 MBs):   0%|          | 0/531069 [00:00<?, ?it/s]\r\u001b[32mUploading src (0.53 MBs): 100%|██████████| 531069/531069 [00:00<00:00, 10049695.82it/s]\n\u001b[39m\n\n"
        },
        {
          "output_type": "stream",
          "name": "stdout",
          "text": "Monitor your job at https://ml.azure.com/runs/jolly_napa_bhq90pxcn8?wsid=/subscriptions/2fbd9cca-a295-4d4f-a5c4-bf80e223260f/resourcegroups/ai-900/workspaces/koikedemo&tid=adcb56ab-ed63-4be3-8e5e-2fa7d2eb44e1\n"
        }
      ],
      "execution_count": 8,
      "metadata": {
        "vscode": {
          "languageId": "python"
        },
        "gather": {
          "logged": 1731374628272
        }
      }
    },
    {
      "attachments": {},
      "cell_type": "markdown",
      "source": [
        "スタジオで、**diabetes-train-autolog** ジョブに移動し、実行したコマンドジョブの概要を調べます：\n",
        "- Overview**]タブの[**Params**]で、ログに記録されたパラメータを見つけます。\n",
        "- ログに記録されたメトリクスを **Metrics** タブで見つけます。\n",
        "- Images**タブ（特に画像）、および**Outputs + logs**タブ（モデルファイルを含むすべてのファイル）で、ログに記録されたアーチファクトを見つけます。"
      ],
      "metadata": {}
    },
    {
      "attachments": {},
      "cell_type": "markdown",
      "source": [
        "## MLflow を使って実験の表示と検索を行う\n",
        "Azure Machine Learning Studio は、ジョブの実行を表示および比較するための使いやすい UI です。また、MLflow を使用して実験ジョブを表示することもできます。\n",
        "\n",
        "ワークスペース内の実験を一覧表示するには、以下のコマンドを使用します："
      ],
      "metadata": {}
    },
    {
      "cell_type": "code",
      "source": [
        "import mlflow\n",
        "experiments = mlflow.search_experiments()\n",
        "for exp in experiments:\n",
        "    print(exp.name)"
      ],
      "outputs": [
        {
          "output_type": "stream",
          "name": "stdout",
          "text": "Default\ndemoproject\nmove-diabetes-data\ndiabetes-training\nprepare_image\nauto-ml-class-dev\nmlflow-experiment-diabetes\n"
        }
      ],
      "execution_count": 9,
      "metadata": {
        "vscode": {
          "languageId": "python"
        },
        "gather": {
          "logged": 1731374632274
        }
      }
    },
    {
      "attachments": {},
      "cell_type": "markdown",
      "source": [
        "特定の実験を検索するには、その実験名で検索することができる："
      ],
      "metadata": {}
    },
    {
      "cell_type": "code",
      "source": [
        "experiment_name = \"diabetes-training\"\n",
        "exp = mlflow.get_experiment_by_name(experiment_name)\n",
        "print(exp)"
      ],
      "outputs": [
        {
          "output_type": "stream",
          "name": "stdout",
          "text": "<Experiment: artifact_location='', creation_time=1730418618805, experiment_id='b2f1aba9-55fe-4749-99aa-e95d458fc300', last_update_time=None, lifecycle_stage='active', name='diabetes-training', tags={}>\n"
        }
      ],
      "execution_count": 10,
      "metadata": {
        "vscode": {
          "languageId": "python"
        },
        "gather": {
          "logged": 1731374632327
        }
      }
    },
    {
      "attachments": {},
      "cell_type": "markdown",
      "source": [
        "実験名を指定すると、その実験のすべてのジョブを検索できます："
      ],
      "metadata": {}
    },
    {
      "cell_type": "code",
      "source": [
        "mlflow.search_runs(exp.experiment_id)"
      ],
      "outputs": [
        {
          "output_type": "execute_result",
          "execution_count": 11,
          "data": {
            "text/plain": "                    run_id                         experiment_id     status  \\\n0    lucid_door_dswxxpm5ks  b2f1aba9-55fe-4749-99aa-e95d458fc300   FINISHED   \n1    lime_zebra_v4hrbnz2m3  b2f1aba9-55fe-4749-99aa-e95d458fc300   FINISHED   \n2   sad_curtain_tdt1gthn51  b2f1aba9-55fe-4749-99aa-e95d458fc300     FAILED   \n3  sweet_parcel_2n9fgq4p54  b2f1aba9-55fe-4749-99aa-e95d458fc300   FINISHED   \n4  amiable_leek_lxb0ljsyrw  b2f1aba9-55fe-4749-99aa-e95d458fc300    RUNNING   \n5   musing_sock_rgc0ct58r1  b2f1aba9-55fe-4749-99aa-e95d458fc300  SCHEDULED   \n6    jolly_napa_bhq90pxcn8  b2f1aba9-55fe-4749-99aa-e95d458fc300  SCHEDULED   \n\n  artifact_uri                       start_time  \\\n0              2024-10-31 23:53:13.986000+00:00   \n1              2024-11-01 00:05:22.558000+00:00   \n2              2024-11-01 00:06:53.963000+00:00   \n3              2024-11-01 00:27:58.410000+00:00   \n4              2024-11-12 01:23:25.900000+00:00   \n5                     1970-01-01 00:00:00+00:00   \n6                     1970-01-01 00:00:00+00:00   \n\n                          end_time    tags.mlflow.rootRunId tags.mlflow.user  \\\n0 2024-10-31 23:54:50.941000+00:00    lucid_door_dswxxpm5ks             歩 小池   \n1 2024-11-01 00:06:56.513000+00:00    lime_zebra_v4hrbnz2m3             歩 小池   \n2 2024-11-01 00:07:45.676000+00:00   sad_curtain_tdt1gthn51             歩 小池   \n3 2024-11-01 00:29:21.088000+00:00  sweet_parcel_2n9fgq4p54             歩 小池   \n4                              NaT  amiable_leek_lxb0ljsyrw             歩 小池   \n5                              NaT   musing_sock_rgc0ct58r1             歩 小池   \n6                              NaT    jolly_napa_bhq90pxcn8             歩 小池   \n\n          tags.mlflow.runName     tags.model_type  \n0      diabetes-train-cluster                None  \n1  diabetes-train-curated-env                None  \n2   diabetes-train-custom-env                None  \n3   diabetes-train-custom-env                None  \n4       diabetes-train-script                None  \n5       diabetes-train-mlflow  LogisticRegression  \n6      diabetes-train-autolog                None  ",
            "text/html": "<div>\n<style scoped>\n    .dataframe tbody tr th:only-of-type {\n        vertical-align: middle;\n    }\n\n    .dataframe tbody tr th {\n        vertical-align: top;\n    }\n\n    .dataframe thead th {\n        text-align: right;\n    }\n</style>\n<table border=\"1\" class=\"dataframe\">\n  <thead>\n    <tr style=\"text-align: right;\">\n      <th></th>\n      <th>run_id</th>\n      <th>experiment_id</th>\n      <th>status</th>\n      <th>artifact_uri</th>\n      <th>start_time</th>\n      <th>end_time</th>\n      <th>tags.mlflow.rootRunId</th>\n      <th>tags.mlflow.user</th>\n      <th>tags.mlflow.runName</th>\n      <th>tags.model_type</th>\n    </tr>\n  </thead>\n  <tbody>\n    <tr>\n      <th>0</th>\n      <td>lucid_door_dswxxpm5ks</td>\n      <td>b2f1aba9-55fe-4749-99aa-e95d458fc300</td>\n      <td>FINISHED</td>\n      <td></td>\n      <td>2024-10-31 23:53:13.986000+00:00</td>\n      <td>2024-10-31 23:54:50.941000+00:00</td>\n      <td>lucid_door_dswxxpm5ks</td>\n      <td>歩 小池</td>\n      <td>diabetes-train-cluster</td>\n      <td>None</td>\n    </tr>\n    <tr>\n      <th>1</th>\n      <td>lime_zebra_v4hrbnz2m3</td>\n      <td>b2f1aba9-55fe-4749-99aa-e95d458fc300</td>\n      <td>FINISHED</td>\n      <td></td>\n      <td>2024-11-01 00:05:22.558000+00:00</td>\n      <td>2024-11-01 00:06:56.513000+00:00</td>\n      <td>lime_zebra_v4hrbnz2m3</td>\n      <td>歩 小池</td>\n      <td>diabetes-train-curated-env</td>\n      <td>None</td>\n    </tr>\n    <tr>\n      <th>2</th>\n      <td>sad_curtain_tdt1gthn51</td>\n      <td>b2f1aba9-55fe-4749-99aa-e95d458fc300</td>\n      <td>FAILED</td>\n      <td></td>\n      <td>2024-11-01 00:06:53.963000+00:00</td>\n      <td>2024-11-01 00:07:45.676000+00:00</td>\n      <td>sad_curtain_tdt1gthn51</td>\n      <td>歩 小池</td>\n      <td>diabetes-train-custom-env</td>\n      <td>None</td>\n    </tr>\n    <tr>\n      <th>3</th>\n      <td>sweet_parcel_2n9fgq4p54</td>\n      <td>b2f1aba9-55fe-4749-99aa-e95d458fc300</td>\n      <td>FINISHED</td>\n      <td></td>\n      <td>2024-11-01 00:27:58.410000+00:00</td>\n      <td>2024-11-01 00:29:21.088000+00:00</td>\n      <td>sweet_parcel_2n9fgq4p54</td>\n      <td>歩 小池</td>\n      <td>diabetes-train-custom-env</td>\n      <td>None</td>\n    </tr>\n    <tr>\n      <th>4</th>\n      <td>amiable_leek_lxb0ljsyrw</td>\n      <td>b2f1aba9-55fe-4749-99aa-e95d458fc300</td>\n      <td>RUNNING</td>\n      <td></td>\n      <td>2024-11-12 01:23:25.900000+00:00</td>\n      <td>NaT</td>\n      <td>amiable_leek_lxb0ljsyrw</td>\n      <td>歩 小池</td>\n      <td>diabetes-train-script</td>\n      <td>None</td>\n    </tr>\n    <tr>\n      <th>5</th>\n      <td>musing_sock_rgc0ct58r1</td>\n      <td>b2f1aba9-55fe-4749-99aa-e95d458fc300</td>\n      <td>SCHEDULED</td>\n      <td></td>\n      <td>1970-01-01 00:00:00+00:00</td>\n      <td>NaT</td>\n      <td>musing_sock_rgc0ct58r1</td>\n      <td>歩 小池</td>\n      <td>diabetes-train-mlflow</td>\n      <td>LogisticRegression</td>\n    </tr>\n    <tr>\n      <th>6</th>\n      <td>jolly_napa_bhq90pxcn8</td>\n      <td>b2f1aba9-55fe-4749-99aa-e95d458fc300</td>\n      <td>SCHEDULED</td>\n      <td></td>\n      <td>1970-01-01 00:00:00+00:00</td>\n      <td>NaT</td>\n      <td>jolly_napa_bhq90pxcn8</td>\n      <td>歩 小池</td>\n      <td>diabetes-train-autolog</td>\n      <td>None</td>\n    </tr>\n  </tbody>\n</table>\n</div>"
          },
          "metadata": {}
        }
      ],
      "execution_count": 11,
      "metadata": {
        "vscode": {
          "languageId": "python"
        },
        "gather": {
          "logged": 1731374633482
        }
      }
    },
    {
      "attachments": {},
      "cell_type": "markdown",
      "source": [
        "ジョブの実行と出力をより簡単に比較するために、検索結果を順番に並べるように設定することができます。例えば、次のセルは `start_time` によって結果を並べ替え、最大で `2` の結果のみを表示する： "
      ],
      "metadata": {}
    },
    {
      "cell_type": "code",
      "source": [
        "mlflow.search_runs(exp.experiment_id, order_by=[\"start_time DESC\"], max_results=2)"
      ],
      "outputs": [
        {
          "output_type": "execute_result",
          "execution_count": 12,
          "data": {
            "text/plain": "                    run_id                         experiment_id    status  \\\n0  amiable_leek_lxb0ljsyrw  b2f1aba9-55fe-4749-99aa-e95d458fc300   RUNNING   \n1  sweet_parcel_2n9fgq4p54  b2f1aba9-55fe-4749-99aa-e95d458fc300  FINISHED   \n\n  artifact_uri                       start_time  \\\n0              2024-11-12 01:23:25.900000+00:00   \n1              2024-11-01 00:27:58.410000+00:00   \n\n                          end_time    tags.mlflow.rootRunId tags.mlflow.user  \\\n0                              NaT  amiable_leek_lxb0ljsyrw             歩 小池   \n1 2024-11-01 00:29:21.088000+00:00  sweet_parcel_2n9fgq4p54             歩 小池   \n\n         tags.mlflow.runName  \n0      diabetes-train-script  \n1  diabetes-train-custom-env  ",
            "text/html": "<div>\n<style scoped>\n    .dataframe tbody tr th:only-of-type {\n        vertical-align: middle;\n    }\n\n    .dataframe tbody tr th {\n        vertical-align: top;\n    }\n\n    .dataframe thead th {\n        text-align: right;\n    }\n</style>\n<table border=\"1\" class=\"dataframe\">\n  <thead>\n    <tr style=\"text-align: right;\">\n      <th></th>\n      <th>run_id</th>\n      <th>experiment_id</th>\n      <th>status</th>\n      <th>artifact_uri</th>\n      <th>start_time</th>\n      <th>end_time</th>\n      <th>tags.mlflow.rootRunId</th>\n      <th>tags.mlflow.user</th>\n      <th>tags.mlflow.runName</th>\n    </tr>\n  </thead>\n  <tbody>\n    <tr>\n      <th>0</th>\n      <td>amiable_leek_lxb0ljsyrw</td>\n      <td>b2f1aba9-55fe-4749-99aa-e95d458fc300</td>\n      <td>RUNNING</td>\n      <td></td>\n      <td>2024-11-12 01:23:25.900000+00:00</td>\n      <td>NaT</td>\n      <td>amiable_leek_lxb0ljsyrw</td>\n      <td>歩 小池</td>\n      <td>diabetes-train-script</td>\n    </tr>\n    <tr>\n      <th>1</th>\n      <td>sweet_parcel_2n9fgq4p54</td>\n      <td>b2f1aba9-55fe-4749-99aa-e95d458fc300</td>\n      <td>FINISHED</td>\n      <td></td>\n      <td>2024-11-01 00:27:58.410000+00:00</td>\n      <td>2024-11-01 00:29:21.088000+00:00</td>\n      <td>sweet_parcel_2n9fgq4p54</td>\n      <td>歩 小池</td>\n      <td>diabetes-train-custom-env</td>\n    </tr>\n  </tbody>\n</table>\n</div>"
          },
          "metadata": {}
        }
      ],
      "execution_count": 12,
      "metadata": {
        "vscode": {
          "languageId": "python"
        },
        "gather": {
          "logged": 1731374633578
        }
      }
    },
    {
      "attachments": {},
      "cell_type": "markdown",
      "source": [
        "クエリを作成して、実行をフィルタリングすることもできる。フィルタリングのクエリー文字列はSQLの`WHERE`句の簡略版で記述されます。\n",
        "\n",
        "フィルタリングには、2種類のコンパレータを使用することができます：\n",
        "\n",
        "- 数値比較子（メトリクス）： 数値比較子（メトリクス）： =, !=, >, >=, <, <=。\n",
        "- 文字列比較子（パラメータ、タグ、属性）：=と!\n",
        "\n",
        "MLflowで実験を追跡する方法](https://learn.microsoft.com/azure/machine-learning/how-to-track-experiments-mlflow)の詳細はこちら。"
      ],
      "metadata": {}
    },
    {
      "cell_type": "code",
      "source": [
        "query = \"metrics.AUC > 0.8 and tags.model_type = 'LogisticRegression'\"\n",
        "mlflow.search_runs(exp.experiment_id, filter_string=query)"
      ],
      "outputs": [
        {
          "output_type": "execute_result",
          "execution_count": 13,
          "data": {
            "text/plain": "Empty DataFrame\nColumns: [run_id, experiment_id, status, artifact_uri, start_time, end_time]\nIndex: []",
            "text/html": "<div>\n<style scoped>\n    .dataframe tbody tr th:only-of-type {\n        vertical-align: middle;\n    }\n\n    .dataframe tbody tr th {\n        vertical-align: top;\n    }\n\n    .dataframe thead th {\n        text-align: right;\n    }\n</style>\n<table border=\"1\" class=\"dataframe\">\n  <thead>\n    <tr style=\"text-align: right;\">\n      <th></th>\n      <th>run_id</th>\n      <th>experiment_id</th>\n      <th>status</th>\n      <th>artifact_uri</th>\n      <th>start_time</th>\n      <th>end_time</th>\n    </tr>\n  </thead>\n  <tbody>\n  </tbody>\n</table>\n</div>"
          },
          "metadata": {}
        }
      ],
      "execution_count": 13,
      "metadata": {
        "vscode": {
          "languageId": "python"
        },
        "gather": {
          "logged": 1731374633889
        }
      }
    }
  ],
  "metadata": {
    "kernel_info": {
      "name": "python38-azureml"
    },
    "kernelspec": {
      "name": "python38-azureml",
      "language": "python",
      "display_name": "Python 3.8 - AzureML"
    },
    "microsoft": {
      "host": {
        "AzureML": {
          "notebookHasBeenCompleted": true
        }
      }
    },
    "nteract": {
      "version": "nteract-front-end@1.0.0"
    },
    "vscode": {
      "interpreter": {
        "hash": "f2b2cd046deda8eabef1e765a11d0ec9aa9bd1d31d56ce79c815a38c323e14ec"
      }
    },
    "language_info": {
      "name": "python",
      "version": "3.10.11",
      "mimetype": "text/x-python",
      "codemirror_mode": {
        "name": "ipython",
        "version": 3
      },
      "pygments_lexer": "ipython3",
      "nbconvert_exporter": "python",
      "file_extension": ".py"
    }
  },
  "nbformat": 4,
  "nbformat_minor": 2
}