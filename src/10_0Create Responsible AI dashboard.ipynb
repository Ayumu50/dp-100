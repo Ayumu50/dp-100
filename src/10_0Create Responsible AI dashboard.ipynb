{
  "cells": [
    {
      "attachments": {},
      "cell_type": "markdown",
      "metadata": {},
      "source": [
        "# モデルを評価するための責任あるAIダッシュボードの作成\n",
        "\n",
        "機械学習モデルを比較・評価する場合、パフォーマンス指標だけでなく、より多くのことを確認したいと思うでしょう。Azure Machine Learningでは、責任あるAIダッシュボードを作成して、データの異なるコホートに対するモデルのパフォーマンスを調べることができます。"
      ]
    },
    {
      "attachments": {},
      "cell_type": "markdown",
      "metadata": {},
      "source": [
        "## データの準備\n",
        "責任あるAIダッシュボードを作成するには、Parquetファイルとして保存され、データ資産として登録されたトレーニングデータセットとテストデータセットが必要です。\n",
        "\n",
        "データは現在CSVファイルとして保存されています。それらをParquetファイルに変換しましょう。\n"
      ]
    },
    {
      "cell_type": "code",
      "execution_count": 1,
      "metadata": {
        "gather": {
          "logged": 1731569202493
        }
      },
      "outputs": [
        {
          "data": {
            "text/html": [
              "<div>\n",
              "<style scoped>\n",
              "    .dataframe tbody tr th:only-of-type {\n",
              "        vertical-align: middle;\n",
              "    }\n",
              "\n",
              "    .dataframe tbody tr th {\n",
              "        vertical-align: top;\n",
              "    }\n",
              "\n",
              "    .dataframe thead th {\n",
              "        text-align: right;\n",
              "    }\n",
              "</style>\n",
              "<table border=\"1\" class=\"dataframe\">\n",
              "  <thead>\n",
              "    <tr style=\"text-align: right;\">\n",
              "      <th></th>\n",
              "      <th>Pregnancies</th>\n",
              "      <th>PlasmaGlucose</th>\n",
              "      <th>DiastolicBloodPressure</th>\n",
              "      <th>TricepsThickness</th>\n",
              "      <th>SerumInsulin</th>\n",
              "      <th>BMI</th>\n",
              "      <th>DiabetesPedigree</th>\n",
              "      <th>Age</th>\n",
              "      <th>Diabetic</th>\n",
              "    </tr>\n",
              "  </thead>\n",
              "  <tbody>\n",
              "    <tr>\n",
              "      <th>0</th>\n",
              "      <td>0</td>\n",
              "      <td>171</td>\n",
              "      <td>80</td>\n",
              "      <td>34</td>\n",
              "      <td>23</td>\n",
              "      <td>43.509726</td>\n",
              "      <td>1.213191</td>\n",
              "      <td>21</td>\n",
              "      <td>0</td>\n",
              "    </tr>\n",
              "    <tr>\n",
              "      <th>1</th>\n",
              "      <td>8</td>\n",
              "      <td>92</td>\n",
              "      <td>93</td>\n",
              "      <td>47</td>\n",
              "      <td>36</td>\n",
              "      <td>21.240576</td>\n",
              "      <td>0.158365</td>\n",
              "      <td>23</td>\n",
              "      <td>0</td>\n",
              "    </tr>\n",
              "    <tr>\n",
              "      <th>2</th>\n",
              "      <td>7</td>\n",
              "      <td>115</td>\n",
              "      <td>47</td>\n",
              "      <td>52</td>\n",
              "      <td>35</td>\n",
              "      <td>41.511523</td>\n",
              "      <td>0.079019</td>\n",
              "      <td>23</td>\n",
              "      <td>0</td>\n",
              "    </tr>\n",
              "    <tr>\n",
              "      <th>3</th>\n",
              "      <td>9</td>\n",
              "      <td>103</td>\n",
              "      <td>78</td>\n",
              "      <td>25</td>\n",
              "      <td>304</td>\n",
              "      <td>29.582192</td>\n",
              "      <td>1.282870</td>\n",
              "      <td>43</td>\n",
              "      <td>1</td>\n",
              "    </tr>\n",
              "    <tr>\n",
              "      <th>4</th>\n",
              "      <td>1</td>\n",
              "      <td>85</td>\n",
              "      <td>59</td>\n",
              "      <td>27</td>\n",
              "      <td>35</td>\n",
              "      <td>42.604536</td>\n",
              "      <td>0.549542</td>\n",
              "      <td>22</td>\n",
              "      <td>0</td>\n",
              "    </tr>\n",
              "  </tbody>\n",
              "</table>\n",
              "</div>"
            ],
            "text/plain": [
              "   Pregnancies  PlasmaGlucose  DiastolicBloodPressure  TricepsThickness  \\\n",
              "0            0            171                      80                34   \n",
              "1            8             92                      93                47   \n",
              "2            7            115                      47                52   \n",
              "3            9            103                      78                25   \n",
              "4            1             85                      59                27   \n",
              "\n",
              "   SerumInsulin        BMI  DiabetesPedigree  Age  Diabetic  \n",
              "0            23  43.509726          1.213191   21         0  \n",
              "1            36  21.240576          0.158365   23         0  \n",
              "2            35  41.511523          0.079019   23         0  \n",
              "3           304  29.582192          1.282870   43         1  \n",
              "4            35  42.604536          0.549542   22         0  "
            ]
          },
          "execution_count": 1,
          "metadata": {},
          "output_type": "execute_result"
        }
      ],
      "source": [
        "import pandas as pd\n",
        "\n",
        "# read training and test dataset\n",
        "df_training = pd.read_csv(\"train-data/diabetes.csv\")\n",
        "df_test = pd.read_csv(\"test-data/diabetes-test.csv\")\n",
        "\n",
        "# display the first few rows of the training dataset\n",
        "df_training.head()"
      ]
    },
    {
      "cell_type": "code",
      "execution_count": 2,
      "metadata": {
        "gather": {
          "logged": 1731569202892
        },
        "jupyter": {
          "outputs_hidden": false,
          "source_hidden": false
        },
        "nteract": {
          "transient": {
            "deleting": false
          }
        }
      },
      "outputs": [],
      "source": [
        "import pyarrow as pa\n",
        "import pyarrow.parquet as pq\n",
        "\n",
        "# convert data to table\n",
        "table_training = pa.Table.from_pandas(df_training)\n",
        "table_test = pa.Table.from_pandas(df_test)\n",
        "\n",
        "# write tables out to parquet\n",
        "pq.write_table(table_training, \"train-data/diabetes-training.parquet\", version=\"1.0\")\n",
        "pq.write_table(table_test, \"test-data/diabetes-test.parquet\", version=\"1.0\")"
      ]
    },
    {
      "attachments": {},
      "cell_type": "markdown",
      "metadata": {},
      "source": [
        "## 続ける前に\n",
        "このノートブックのコードを実行するには、**azureml-ai-ml**パッケージの最新版が必要です。以下のセルを実行して、インストールされていることを確認してください。\n",
        "\n",
        "> 注**：\n",
        "> もし **azure-ai-ml** パッケージがインストールされていない場合は、`pip install azure-ai-ml` を実行してインストールしてください。"
      ]
    },
    {
      "cell_type": "code",
      "execution_count": 3,
      "metadata": {
        "gather": {
          "logged": 1731569208244
        }
      },
      "outputs": [
        {
          "name": "stdout",
          "output_type": "stream",
          "text": [
            "Name: azure-ai-ml\r\n",
            "Version: 1.21.1\r\n",
            "Summary: Microsoft Azure Machine Learning Client Library for Python\r\n",
            "Home-page: https://github.com/Azure/azure-sdk-for-python\r\n",
            "Author: Microsoft Corporation\r\n",
            "Author-email: azuresdkengsysadmins@microsoft.com\r\n",
            "License: MIT License\r\n",
            "Location: /anaconda/envs/azureml_py38/lib/python3.10/site-packages\r\n",
            "Requires: azure-common, azure-core, azure-mgmt-core, azure-storage-blob, azure-storage-file-datalake, azure-storage-file-share, colorama, isodate, jsonschema, marshmallow, msrest, opencensus-ext-azure, opencensus-ext-logging, pydash, pyjwt, pyyaml, strictyaml, tqdm, typing-extensions\r\n",
            "Required-by: \r\n",
            "Note: you may need to restart the kernel to use updated packages.\n"
          ]
        }
      ],
      "source": [
        "pip show azure-ai-ml"
      ]
    },
    {
      "attachments": {},
      "cell_type": "markdown",
      "metadata": {},
      "source": [
        "## ワークスペースに接続する\n",
        "必要な SDK パッケージがインストールされ、ワークスペースに接続する準備が整いました。\n",
        "\n",
        "ワークスペースに接続するには、サブスクリプションID、リソースグループ名、ワークスペース名といった識別子のパラメータが必要だ。Azure Machine Learningが管理するコンピュートインスタンスで作業しているので、デフォルト値を使用してワークスペースに接続できる。"
      ]
    },
    {
      "cell_type": "code",
      "execution_count": 4,
      "metadata": {
        "gather": {
          "logged": 1731569210759
        }
      },
      "outputs": [],
      "source": [
        "from azure.identity import DefaultAzureCredential, InteractiveBrowserCredential\n",
        "from azure.ai.ml import MLClient\n",
        "\n",
        "try:\n",
        "    credential = DefaultAzureCredential()\n",
        "    # Check if given credential can get token successfully.\n",
        "    credential.get_token(\"https://management.azure.com/.default\")\n",
        "except Exception as ex:\n",
        "    # Fall back to InteractiveBrowserCredential in case DefaultAzureCredential not work\n",
        "    credential = InteractiveBrowserCredential()"
      ]
    },
    {
      "cell_type": "code",
      "execution_count": 5,
      "metadata": {
        "gather": {
          "logged": 1731569210884
        }
      },
      "outputs": [
        {
          "name": "stderr",
          "output_type": "stream",
          "text": [
            "Found the config file in: /config.json\n"
          ]
        }
      ],
      "source": [
        "# Get a handle to workspace\n",
        "ml_client = MLClient.from_config(credential=credential)"
      ]
    },
    {
      "attachments": {},
      "cell_type": "markdown",
      "metadata": {},
      "source": [
        "## データ資産の作成\n",
        "責任あるAIダッシュボードを作成するには、トレーニングデータセットとテストデータセットを**MLtable**データ資産として登録する必要があります。MLtableデータ資産は、先ほど作成したParquetファイルを参照します。"
      ]
    },
    {
      "cell_type": "code",
      "execution_count": 6,
      "metadata": {
        "gather": {
          "logged": 1731569210956
        },
        "jupyter": {
          "outputs_hidden": false,
          "source_hidden": false
        },
        "nteract": {
          "transient": {
            "deleting": false
          }
        }
      },
      "outputs": [],
      "source": [
        "train_data_path = \"train-data/\"\n",
        "test_data_path = \"test-data/\"\n",
        "data_version = \"1\""
      ]
    },
    {
      "cell_type": "code",
      "execution_count": 7,
      "metadata": {
        "gather": {
          "logged": 1731569214637
        },
        "jupyter": {
          "outputs_hidden": false,
          "source_hidden": false
        },
        "nteract": {
          "transient": {
            "deleting": false
          }
        }
      },
      "outputs": [
        {
          "name": "stderr",
          "output_type": "stream",
          "text": [
            "\u001b[32mUploading train-data (0.7 MBs): 100%|██████████| 698279/698279 [00:00<00:00, 15957340.96it/s]\n",
            "\u001b[39m\n",
            "\n",
            "\u001b[32mUploading test-data (0.35 MBs): 100%|██████████| 353077/353077 [00:00<00:00, 10103995.26it/s]\n",
            "\u001b[39m\n",
            "\n"
          ]
        }
      ],
      "source": [
        "from azure.ai.ml.entities import Data\n",
        "from azure.ai.ml.constants import AssetTypes\n",
        "\n",
        "input_train_data = \"diabetes_train_mltable\"\n",
        "input_test_data = \"diabetes_test_mltable\"\n",
        "\n",
        "try:\n",
        "    # Try getting data already registered in workspace\n",
        "    train_data = ml_client.data.get(\n",
        "        name=input_train_data,\n",
        "        version=data_version,\n",
        "    )\n",
        "    test_data = ml_client.data.get(\n",
        "        name=input_test_data,\n",
        "        version=data_version,\n",
        "    )\n",
        "except Exception as e:\n",
        "    train_data = Data(\n",
        "        path=train_data_path,\n",
        "        type=AssetTypes.MLTABLE,\n",
        "        description=\"RAI diabetes training data\",\n",
        "        name=input_train_data,\n",
        "        version=data_version,\n",
        "    )\n",
        "    ml_client.data.create_or_update(train_data)\n",
        "\n",
        "    test_data = Data(\n",
        "        path=test_data_path,\n",
        "        type=AssetTypes.MLTABLE,\n",
        "        description=\"RAI diabetes test data\",\n",
        "        name=input_test_data,\n",
        "        version=data_version,\n",
        "    )\n",
        "    ml_client.data.create_or_update(test_data)"
      ]
    },
    {
      "attachments": {},
      "cell_type": "markdown",
      "metadata": {},
      "source": [
        "## AIダッシュボードを作成するためのパイプラインを構築する\n",
        "ダッシュボードを作成するには、Azure Machine Learningワークスペースにデフォルトで登録されているビルド済みコンポーネントを使用してパイプラインをビルドします。"
      ]
    },
    {
      "cell_type": "code",
      "execution_count": 8,
      "metadata": {
        "gather": {
          "logged": 1731569215335
        },
        "jupyter": {
          "outputs_hidden": false,
          "source_hidden": false
        },
        "nteract": {
          "transient": {
            "deleting": false
          }
        }
      },
      "outputs": [
        {
          "name": "stdout",
          "output_type": "stream",
          "text": [
            "MLClient(credential=<azure.identity._credentials.default.DefaultAzureCredential object at 0x7fe7ace6cf70>,\n",
            "         subscription_id=6c6683e9-e5fe-4038-8519-ce6ebec2ba15,\n",
            "         resource_group_name=registry-builtin-prod-eastus-01,\n",
            "         workspace_name=None)\n"
          ]
        }
      ],
      "source": [
        "# Get handle to azureml registry for the RAI built in components\n",
        "registry_name = \"azureml\"\n",
        "ml_client_registry = MLClient(\n",
        "    credential=credential,\n",
        "    subscription_id=ml_client.subscription_id,\n",
        "    resource_group_name=ml_client.resource_group_name,\n",
        "    registry_name=registry_name,\n",
        ")\n",
        "print(ml_client_registry)"
      ]
    },
    {
      "attachments": {},
      "cell_type": "markdown",
      "metadata": {},
      "source": [
        "### モデルの登録\n",
        "機械学習モデルはすでに学習済みです。このモデルは患者が糖尿病であるかどうかを予測します。すべてのモデルファイルは `model` フォルダに格納されています。\n",
        "\n",
        "model` フォルダとその中身を指定してモデルを登録する。"
      ]
    },
    {
      "cell_type": "code",
      "execution_count": 9,
      "metadata": {
        "gather": {
          "logged": 1731569218243
        },
        "jupyter": {
          "outputs_hidden": false,
          "source_hidden": false
        },
        "nteract": {
          "transient": {
            "deleting": false
          }
        }
      },
      "outputs": [
        {
          "name": "stderr",
          "output_type": "stream",
          "text": [
            "\u001b[32mUploading model (0.0 MBs): 100%|██████████| 2296/2296 [00:00<00:00, 80567.92it/s]\n",
            "\u001b[39m\n",
            "\n"
          ]
        }
      ],
      "source": [
        "from azure.ai.ml.entities import Model\n",
        "from azure.ai.ml.constants import AssetTypes\n",
        "\n",
        "file_model = Model(\n",
        "    path=\"model\",\n",
        "    type=AssetTypes.MLFLOW_MODEL,\n",
        "    name=\"local-mlflow-diabetes\",\n",
        "    description=\"Model created from local file.\",\n",
        ")\n",
        "model = ml_client.models.create_or_update(file_model)"
      ]
    },
    {
      "attachments": {},
      "cell_type": "markdown",
      "metadata": {},
      "source": [
        "## パイプラインの構築\n",
        "AIダッシュボードを作成するには、あらかじめ用意されているコンポーネントを使用してパイプラインを作成します。どのコンポーネントを使用するか、どの機能をダッシュボードに含めるかを選択できます。エラー分析とモデルの解釈可能性を含むダッシュボードを作成します。\n",
        "\n",
        "ダッシュボードを構築するためのパイプラインには、担当するAI機能の他に、ダッシュボードを構築するためのコンポーネントと、生成されたすべてのインサイトを収集するためのコンポーネントが必要です。"
      ]
    },
    {
      "cell_type": "code",
      "execution_count": 10,
      "metadata": {
        "gather": {
          "logged": 1731569218307
        },
        "jupyter": {
          "outputs_hidden": false,
          "source_hidden": false
        },
        "nteract": {
          "transient": {
            "deleting": false
          }
        }
      },
      "outputs": [],
      "source": [
        "model_name = model.name\n",
        "expected_model_id = f\"{model_name}:1\"\n",
        "azureml_model_id = f\"azureml:{expected_model_id}\""
      ]
    },
    {
      "cell_type": "code",
      "execution_count": 11,
      "metadata": {
        "gather": {
          "logged": 1731569219406
        },
        "jupyter": {
          "outputs_hidden": false,
          "source_hidden": false
        },
        "nteract": {
          "transient": {
            "deleting": false
          }
        }
      },
      "outputs": [
        {
          "name": "stdout",
          "output_type": "stream",
          "text": [
            "The current version of RAI built-in components is: 0.17.0\n"
          ]
        }
      ],
      "source": [
        "label = \"latest\"\n",
        "\n",
        "rai_constructor_component = ml_client_registry.components.get(\n",
        "    name=\"microsoft_azureml_rai_tabular_insight_constructor\", label=label\n",
        ")#RAI ダッシュボードの構築プロセスを開始するためのコンポーネントです。エラー解析、説明性、カウンターファクチュアル（反事実分析）などをまとめてセットアップします。\n",
        "\n",
        "# we get latest version and use the same version for all components\n",
        "version = rai_constructor_component.version\n",
        "print(\"The current version of RAI built-in components is: \" + version)\n",
        "\n",
        "rai_erroranalysis_component = ml_client_registry.components.get(\n",
        "    name=\"microsoft_azureml_rai_tabular_erroranalysis\", version=version\n",
        ")#エラー解析を行うためのコンポーネントです。\n",
        "\n",
        "rai_explanation_component = ml_client_registry.components.get(\n",
        "    name=\"microsoft_azureml_rai_tabular_explanation\", version=version\n",
        ")#説明性解析を行うためのコンポーネントです。モデルの予測に対する説明（SHAP値など）を生成\n",
        "\n",
        "rai_gather_component = ml_client_registry.components.get(\n",
        "    name=\"microsoft_azureml_rai_tabular_insight_gather\", version=version\n",
        ")"
      ]
    },
    {
      "attachments": {},
      "cell_type": "markdown",
      "metadata": {},
      "source": [
        "使用したいコンポーネントをすべて取得したら、パイプラインを構築し、適切な順序でコンポーネントを接続します：\n",
        "1.  ダッシュボードを構築する。  \n",
        " エラー分析を追加する  \n",
        "2. 説明を追加する。    \n",
        "3. すべての洞察を収集し、ダッシュボードで可視化する。  "
      ]
    },
    {
      "cell_type": "code",
      "execution_count": 12,
      "metadata": {
        "gather": {
          "logged": 1731569219807
        },
        "jupyter": {
          "outputs_hidden": false,
          "source_hidden": false
        },
        "nteract": {
          "transient": {
            "deleting": false
          }
        }
      },
      "outputs": [],
      "source": [
        "# 必要なAzure MLモジュールのインポート\n",
        "from azure.ai.ml import Input, dsl\n",
        "from azure.ai.ml.constants import AssetTypes\n",
        "\n",
        "# Azure ML上のコンピュートクラスター名\n",
        "compute_name = \"aml-cluster\"\n",
        "\n",
        "# パイプラインの定義（デコレーターを使用）\n",
        "@dsl.pipeline(\n",
        "    compute=compute_name,  # パイプラインを実行するコンピュートクラスター\n",
        "    description=\"RAI insights on diabetes data\",  # パイプラインの説明\n",
        "    experiment_name=f\"RAI_insights_{model_name}\",  # 実験名（動的に生成）\n",
        ")\n",
        "def rai_decision_pipeline(\n",
        "    target_column_name, train_data, test_data  # 入力引数として列名、訓練データ、テストデータを受け取る\n",
        "):\n",
        "    # Step 1: RAIInsightsを初期化するジョブ\n",
        "    create_rai_job = rai_constructor_component(\n",
        "        title=\"RAI dashboard diabetes\",  # ダッシュボードのタイトル\n",
        "        task_type=\"classification\",  # タスクの種類（分類タスク）\n",
        "        model_info=expected_model_id,  # モデルの情報（事前に定義されたID）\n",
        "        model_input=Input(type=AssetTypes.MLFLOW_MODEL, path=azureml_model_id),  # モデルへの入力パス\n",
        "        train_dataset=train_data,  # 訓練データセット\n",
        "        test_dataset=test_data,  # テストデータセット\n",
        "        target_column_name=target_column_name,  # ターゲット列の名前\n",
        "    )\n",
        "    create_rai_job.set_limits(timeout=300)  # ジョブのタイムアウトを300秒に設定\n",
        "\n",
        "    # Step 2: エラー解析の追加\n",
        "    error_job = rai_erroranalysis_component(\n",
        "        rai_insights_dashboard=create_rai_job.outputs.rai_insights_dashboard,  # RAIダッシュボードを入力として使用\n",
        "    )\n",
        "    error_job.set_limits(timeout=300)  # ジョブのタイムアウトを300秒に設定\n",
        "\n",
        "    # Step 3: 説明性解析の追加\n",
        "    explanation_job = rai_explanation_component(\n",
        "        rai_insights_dashboard=create_rai_job.outputs.rai_insights_dashboard,  # RAIダッシュボードを入力として使用\n",
        "        comment=\"add explanation\",  # 説明を追加するコメント\n",
        "    )\n",
        "    explanation_job.set_limits(timeout=300)  # ジョブのタイムアウトを300秒に設定\n",
        "\n",
        "    # Step 4: すべてのインサイトを統合する\n",
        "    rai_gather_job = rai_gather_component(\n",
        "        constructor=create_rai_job.outputs.rai_insights_dashboard,  # 初期化したRAIダッシュボード\n",
        "        insight_3=error_job.outputs.error_analysis,  # エラー解析の結果\n",
        "        insight_4=explanation_job.outputs.explanation,  # 説明性解析の結果\n",
        "    )\n",
        "    rai_gather_job.set_limits(timeout=300)  # ジョブのタイムアウトを300秒に設定\n",
        "\n",
        "    # ダッシュボードの出力をアップロードモードに設定\n",
        "    rai_gather_job.outputs.dashboard.mode = \"upload\"\n",
        "\n",
        "    # 最終的なダッシュボードをパイプラインの出力として返す\n",
        "    return {\n",
        "        \"dashboard\": rai_gather_job.outputs.dashboard,\n",
        "    }\n"
      ]
    },
    {
      "attachments": {},
      "cell_type": "markdown",
      "metadata": {},
      "source": [
        "パイプラインが構築されたので、必要な2つの入力、つまりトレーニングとテストのデータセットを定義する必要がある。"
      ]
    },
    {
      "cell_type": "code",
      "execution_count": 13,
      "metadata": {
        "gather": {
          "logged": 1731569219869
        },
        "jupyter": {
          "outputs_hidden": false,
          "source_hidden": false
        },
        "nteract": {
          "transient": {
            "deleting": false
          }
        }
      },
      "outputs": [],
      "source": [
        "from azure.ai.ml import Input\n",
        "target_feature = \"Diabetic\"\n",
        "\n",
        "diabetes_train_pq = Input(\n",
        "    type=\"mltable\",\n",
        "    path=f\"azureml:{input_train_data}:{data_version}\",\n",
        "    mode=\"download\",\n",
        ")\n",
        "diabetes_test_pq = Input(\n",
        "    type=\"mltable\",\n",
        "    path=f\"azureml:{input_test_data}:{data_version}\",\n",
        "    mode=\"download\",\n",
        ")"
      ]
    },
    {
      "attachments": {},
      "cell_type": "markdown",
      "metadata": {},
      "source": [
        "最後に、すべてをまとめます：入力をパイプラインに割り当て、ターゲット列（予測ラベル）を設定します。"
      ]
    },
    {
      "cell_type": "code",
      "execution_count": 14,
      "metadata": {
        "gather": {
          "logged": 1731569220246
        },
        "jupyter": {
          "outputs_hidden": false,
          "source_hidden": false
        },
        "nteract": {
          "transient": {
            "deleting": false
          }
        }
      },
      "outputs": [],
      "source": [
        "import uuid\n",
        "from azure.ai.ml import Output\n",
        "\n",
        "# Pipeline to construct the RAI Insights\n",
        "insights_pipeline_job = rai_decision_pipeline(\n",
        "    target_column_name=\"Diabetic\",\n",
        "    train_data=diabetes_train_pq,\n",
        "    test_data=diabetes_test_pq,\n",
        ")\n",
        "\n",
        "# Workaround to enable the download\n",
        "rand_path = str(uuid.uuid4())\n",
        "insights_pipeline_job.outputs.dashboard = Output(\n",
        "    path=f\"azureml://datastores/workspaceblobstore/paths/{rand_path}/dashboard/\",\n",
        "    mode=\"upload\",\n",
        "    type=\"uri_folder\",\n",
        ")\n"
      ]
    },
    {
      "attachments": {},
      "cell_type": "markdown",
      "metadata": {},
      "source": [
        "## パイプラインの実行\n",
        "\n",
        "パイプラインの構築に成功したら、パイプラインを送信できます。以下のコードはパイプラインを送信し、パイプラインのステータスをチェックします。スタジオでパイプラインのステータスを確認することもできます。"
      ]
    },
    {
      "cell_type": "code",
      "execution_count": 15,
      "metadata": {
        "gather": {
          "logged": 1677026340892
        },
        "jupyter": {
          "outputs_hidden": false,
          "source_hidden": false
        },
        "nteract": {
          "transient": {
            "deleting": false
          }
        }
      },
      "outputs": [
        {
          "name": "stderr",
          "output_type": "stream",
          "text": [
            "Class AutoDeleteSettingSchema: This is an experimental class, and may change at any time. Please see https://aka.ms/azuremlexperimental for more information.\n",
            "Class AutoDeleteConditionSchema: This is an experimental class, and may change at any time. Please see https://aka.ms/azuremlexperimental for more information.\n",
            "Class BaseAutoDeleteSettingSchema: This is an experimental class, and may change at any time. Please see https://aka.ms/azuremlexperimental for more information.\n",
            "Class IntellectualPropertySchema: This is an experimental class, and may change at any time. Please see https://aka.ms/azuremlexperimental for more information.\n",
            "Class ProtectionLevelSchema: This is an experimental class, and may change at any time. Please see https://aka.ms/azuremlexperimental for more information.\n",
            "Class BaseIntellectualPropertySchema: This is an experimental class, and may change at any time. Please see https://aka.ms/azuremlexperimental for more information.\n",
            "pathOnCompute is not a known attribute of class <class 'azure.ai.ml._restclient.v2023_04_01_preview.models._models_py3.UriFolderJobOutput'> and will be ignored\n"
          ]
        },
        {
          "name": "stdout",
          "output_type": "stream",
          "text": [
            "Pipeline job can be accessed in the following URL:\n"
          ]
        },
        {
          "data": {
            "text/html": [
              "<a href=\"https://ml.azure.com/runs/witty_pummelo_spskv3zt2m?wsid=/subscriptions/2fbd9cca-a295-4d4f-a5c4-bf80e223260f/resourcegroups/ai-900/workspaces/koikedemo&tid=adcb56ab-ed63-4be3-8e5e-2fa7d2eb44e1\">https://ml.azure.com/runs/witty_pummelo_spskv3zt2m?wsid=/subscriptions/2fbd9cca-a295-4d4f-a5c4-bf80e223260f/resourcegroups/ai-900/workspaces/koikedemo&tid=adcb56ab-ed63-4be3-8e5e-2fa7d2eb44e1</a>"
            ],
            "text/plain": [
              "<IPython.core.display.HTML object>"
            ]
          },
          "metadata": {},
          "output_type": "display_data"
        }
      ],
      "source": [
        "from azure.ai.ml.entities import PipelineJob\n",
        "from IPython.core.display import HTML\n",
        "from IPython.display import display\n",
        "import time\n",
        "\n",
        "def submit_and_wait(ml_client, pipeline_job) -> PipelineJob:\n",
        "    created_job = ml_client.jobs.create_or_update(pipeline_job)\n",
        "    assert created_job is not None\n",
        "\n",
        "    print(\"Pipeline job can be accessed in the following URL:\")\n",
        "    display(HTML('<a href=\"{0}\">{0}</a>'.format(created_job.studio_url)))\n",
        "\n",
        "    while created_job.status not in [\n",
        "        \"Completed\",\n",
        "        \"Failed\",\n",
        "        \"Canceled\",\n",
        "        \"NotResponding\",\n",
        "    ]:\n",
        "        time.sleep(30)\n",
        "        created_job = ml_client.jobs.get(created_job.name)\n",
        "        print(\"Latest status : {0}\".format(created_job.status))\n",
        "    assert created_job.status == \"Completed\"\n",
        "    return created_job\n",
        "\n",
        "\n",
        "# This is the actual submission\n",
        "insights_job = submit_and_wait(ml_client, insights_pipeline_job)"
      ]
    },
    {
      "attachments": {},
      "cell_type": "markdown",
      "metadata": {},
      "source": [
        "When the pipeline is completed, you can review the dashboard in the studio. "
      ]
    }
  ],
  "metadata": {
    "kernel_info": {
      "name": "python38-azureml"
    },
    "kernelspec": {
      "display_name": "Python 3.8 - AzureML",
      "language": "python",
      "name": "python38-azureml"
    },
    "language_info": {
      "codemirror_mode": {
        "name": "ipython",
        "version": 3
      },
      "file_extension": ".py",
      "mimetype": "text/x-python",
      "name": "python",
      "nbconvert_exporter": "python",
      "pygments_lexer": "ipython3",
      "version": "3.10.11"
    },
    "microsoft": {
      "host": {
        "AzureML": {
          "notebookHasBeenCompleted": true
        }
      },
      "ms_spell_check": {
        "ms_spell_check_language": "en"
      }
    },
    "nteract": {
      "version": "nteract-front-end@1.0.0"
    },
    "vscode": {
      "interpreter": {
        "hash": "f2b2cd046deda8eabef1e765a11d0ec9aa9bd1d31d56ce79c815a38c323e14ec"
      }
    }
  },
  "nbformat": 4,
  "nbformat_minor": 2
}
