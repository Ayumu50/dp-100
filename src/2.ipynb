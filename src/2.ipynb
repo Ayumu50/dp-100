{
  "cells": [
    {
      "cell_type": "markdown",
      "metadata": {},
      "source": [
        "# Mod2 セキュリティ\n",
        "知っておくと便利なIAM関連の情報をまとめました。詳細はご自身でお調べください。テキストなどというたいそうなものではなくあくまで人のメモとしてご閲覧お願いします。\n"
      ]
    },
    {
      "cell_type": "markdown",
      "metadata": {},
      "source": [
        "### ポリシー\n",
        "ジョブ機能の管理ポリシー：特定の職種と連携するように設計されたポリシー、管理が簡素化される。ゆるいポリシー\n",
        "\n",
        "管理ポリシー：AWS が管理を行うポリシー\n",
        "- サービスポリシー\n",
        "- 職務ポリシー\n",
        "\n",
        "\n",
        "### IAM ロール\n",
        "- AWS STS\n",
        "一時認証を持つユーザの作成、提供ができる。\n",
        "数千などのユーザーが居るときなどにしようされる。なぜかというと一人ひとりにユーザの作成を行うのが難しいから。  \n",
        "\n",
        "[Lab の挙動](https://docs.aws.amazon.com/ja_jp/IAM/latest/UserGuide/id_roles_providers_enable-console-custom-url.html#STSConsoleLink_programPython)のようにシングルサインオン構成や別途ユーザ名やパスワードを管理する必要がなくなっている。\n",
        "ロールやIAMポリシーはアクセスキーを発行し基本的には同様のことができるが**セキュリティリスク**の観点から非推奨となっている。実際にコンソールの画面を見ると、アクセスキーを発行時に別のオプションが表示される。"
      ]
    },
    {
      "cell_type": "markdown",
      "metadata": {},
      "source": [
        "### アカウントアクション\n",
        "\n",
        "クロスアカウントのアクション  \n",
        "複数アカウントが必要なときはAnd条件のみが有効\n",
        "特定のアクションを許可するとき明示的な許可が必要\n",
        "クロスアカウントを使用する際はスイッチロールを使用する。\n",
        "\n",
        "\n",
        "単一アカウントアクション  \n",
        "特定のアクションを拒否したいとき、明示的な拒否が必要\n",
        "\n",
        "\n"
      ]
    },
    {
      "cell_type": "markdown",
      "metadata": {},
      "source": [
        "### IAM アクセスアナライザー\n",
        "外部ソースの信頼関係の検証、ポリシーの検証を行う\n",
        "リスクや意図しないアクセスを特定する。\n",
        "ベストプラクティスに準じているかを検証する。\n",
        "\n",
        "\n"
      ]
    },
    {
      "cell_type": "markdown",
      "metadata": {},
      "source": [
        "### IAM セキュリティのベストプラクティス\n",
        "\n",
        "- ルートユーザーのアクセスキーをロック\n",
        "- 個別のIAMユーザの作成\n",
        "- ポリシーの検証\n",
        "- 最小特権を認める\n",
        "- EC2 インスタンスで実行されるアプリケーションに対してロールを使用する\n",
        "- アクセスキーを共有しない、公開しない\n",
        "- AWS アカウントアクティビティの監視\n"
      ]
    },
    {
      "cell_type": "markdown",
      "metadata": {},
      "source": [
        "[AWS クラウドセキュリティ](https://aws.amazon.com/jp/security/)  \n",
        "[責任共有モデル](https://aws.amazon.com/jp/compliance/shared-responsibility-model/)  \n",
        "[セキュリティの柱 - AWS Well-Architected フレームワーク](https://docs.aws.amazon.com/ja_jp/wellarchitected/latest/security-pillar/welcome.html)  \n"
      ]
    }
  ],
  "metadata": {
    "colab": {
      "provenance": []
    },
    "kernelspec": {
      "display_name": "Python 3",
      "name": "python3"
    },
    "language_info": {
      "name": "python"
    }
  },
  "nbformat": 4,
  "nbformat_minor": 0
}
